{
  "cells": [
    {
      "cell_type": "markdown",
      "metadata": {
        "colab_type": "text",
        "id": "view-in-github"
      },
      "source": [
        "<a href=\"https://colab.research.google.com/github/Abubakar919666/Python/blob/main/File_Handling.ipynb\" target=\"_parent\"><img src=\"https://colab.research.google.com/assets/colab-badge.svg\" alt=\"Open In Colab\"/></a>"
      ]
    },
    {
      "cell_type": "markdown",
      "metadata": {
        "id": "E_GLwJDwJSHM"
      },
      "source": [
        "#**File Handling**\n",
        "\n",
        "So far we have seen different Python data types. We usually store our data in different file formats. In addition to handling files, we will also see different file formats(.txt, .json, .xml, .csv, .tsv, .excel) in this section. First, let us get familiar with handling files with common file format(.txt).\n",
        "\n",
        "\n",
        "\n",
        "\n",
        "File handling is an import part of programming which allows us to create, read, update and delete files. In Python to handle data we use open() built-in function.\n"
      ]
    },
    {
      "cell_type": "code",
      "execution_count": null,
      "metadata": {
        "id": "i5lvBaSIkUO3"
      },
      "outputs": [],
      "source": [
        "open('filename', \"mode\") # mode(r, a, w, x, t,b)  could be to read, write, update"
      ]
    },
    {
      "cell_type": "markdown",
      "metadata": {
        "id": "HJt-8OHPLgnq"
      },
      "source": [
        "*   \"r\" - Read - Default value. Opens a file for reading, it returns an error if the file does not exist\n",
        "*   \"a\" - Append - Opens a file for appending, creates the file if it does not exist\n",
        "*   \"w\" - Write - Opens a file for writing, creates the file if it does not exist\n",
        "*   \"x\" - Create - Creates the specified file, returns an error if the file exists\n",
        "*   \"t\" - Text - Default value. Text mode\n",
        "*   \"b\" - Binary - Binary mode (e.g. images)\n",
        "\n",
        "\n",
        "\n"
      ]
    },
    {
      "cell_type": "markdown",
      "metadata": {
        "id": "-SBEK-0GMKhV"
      },
      "source": [
        "**Opening Files for Reading**\n",
        "\n",
        "The default mode of open is reading, so we do not have to specify 'r' or 'rt'. I have created and saved a file named reading_file_example.txt in the files directory. Let us see how it is done:"
      ]
    },
    {
      "cell_type": "code",
      "execution_count": 1,
      "metadata": {
        "id": "FZbTpKh_Rv8R"
      },
      "outputs": [
        {
          "name": "stdout",
          "output_type": "stream",
          "text": [
            "<_io.TextIOWrapper name='text.txt' mode='r' encoding='utf-8'>\n"
          ]
        }
      ],
      "source": [
        "f = open('text.txt')\n",
        "print(f)"
      ]
    },
    {
      "cell_type": "markdown",
      "metadata": {
        "id": "fkAKEM_GSS-9"
      },
      "source": [
        "* read(): read the whole text as string. If we want to limit the number of characters we want to read, we can limit it by passing int value to the read(number) method."
      ]
    },
    {
      "cell_type": "code",
      "execution_count": 4,
      "metadata": {
        "id": "XxLuiKhtR6rl"
      },
      "outputs": [
        {
          "name": "stdout",
          "output_type": "stream",
          "text": [
            "<class 'str'>\n",
            "Hello world\n",
            "GeeksforGeeks\n",
            "123 456\n"
          ]
        }
      ],
      "source": [
        "f = open('text.txt')\n",
        "txt = f.read()\n",
        "print(type(txt))\n",
        "print(txt)\n",
        "f.close()"
      ]
    },
    {
      "cell_type": "markdown",
      "metadata": {},
      "source": [
        "* readline(): read only the first line"
      ]
    },
    {
      "cell_type": "code",
      "execution_count": 1,
      "metadata": {},
      "outputs": [
        {
          "name": "stdout",
          "output_type": "stream",
          "text": [
            "<class 'str'>\n",
            "Hello world\n",
            "\n"
          ]
        }
      ],
      "source": [
        "f = open('text.txt')\n",
        "line = f.readline()\n",
        "print(type(line))\n",
        "print(line)\n",
        "f.close()"
      ]
    },
    {
      "cell_type": "markdown",
      "metadata": {},
      "source": [
        "* readlines(): read all the text line by line and returns a list of lines"
      ]
    },
    {
      "cell_type": "code",
      "execution_count": 2,
      "metadata": {},
      "outputs": [
        {
          "name": "stdout",
          "output_type": "stream",
          "text": [
            "<class 'list'>\n",
            "['Hello world\\n', 'GeeksforGeeks\\n', '123 456']\n"
          ]
        }
      ],
      "source": [
        "f = open('text.txt')\n",
        "lines = f.readlines()\n",
        "print(type(lines))\n",
        "print(lines)\n",
        "f.close()"
      ]
    },
    {
      "cell_type": "markdown",
      "metadata": {},
      "source": [
        "Another way to get all the lines as a list is using splitlines():"
      ]
    },
    {
      "cell_type": "code",
      "execution_count": 3,
      "metadata": {},
      "outputs": [
        {
          "name": "stdout",
          "output_type": "stream",
          "text": [
            "<class 'list'>\n",
            "['Hello world', 'GeeksforGeeks', '123 456']\n"
          ]
        }
      ],
      "source": [
        "f = open('text.txt')\n",
        "lines = f.read().splitlines()\n",
        "print(type(lines))\n",
        "print(lines)\n",
        "f.close()"
      ]
    },
    {
      "cell_type": "markdown",
      "metadata": {},
      "source": [
        "### Using with Statement"
      ]
    },
    {
      "cell_type": "markdown",
      "metadata": {},
      "source": [
        "After we open a file, we should close it. There is a high tendency of forgetting to close them. There is a new way of opening files using with - closes the files by itself. Let us rewrite the the previous example with the with method:"
      ]
    },
    {
      "cell_type": "code",
      "execution_count": 4,
      "metadata": {},
      "outputs": [
        {
          "name": "stdout",
          "output_type": "stream",
          "text": [
            "<class 'list'>\n",
            "['Hello world', 'GeeksforGeeks', '123 456']\n"
          ]
        }
      ],
      "source": [
        "with open('text.txt') as f:\n",
        "    lines = f.read().splitlines()\n",
        "    print(type(lines))\n",
        "    print(lines)"
      ]
    },
    {
      "cell_type": "markdown",
      "metadata": {},
      "source": [
        "### Opening Files for Writing and Updating"
      ]
    },
    {
      "cell_type": "code",
      "execution_count": 5,
      "metadata": {},
      "outputs": [],
      "source": [
        "import os\n",
        "os.remove('text.txt')\n"
      ]
    },
    {
      "cell_type": "code",
      "execution_count": null,
      "metadata": {},
      "outputs": [],
      "source": []
    }
  ],
  "metadata": {
    "colab": {
      "authorship_tag": "ABX9TyOqbeKVj/LuhpzGaIvdO7LZ",
      "include_colab_link": true,
      "provenance": []
    },
    "kernelspec": {
      "display_name": "base",
      "language": "python",
      "name": "python3"
    },
    "language_info": {
      "codemirror_mode": {
        "name": "ipython",
        "version": 3
      },
      "file_extension": ".py",
      "mimetype": "text/x-python",
      "name": "python",
      "nbconvert_exporter": "python",
      "pygments_lexer": "ipython3",
      "version": "3.12.7"
    }
  },
  "nbformat": 4,
  "nbformat_minor": 0
}
