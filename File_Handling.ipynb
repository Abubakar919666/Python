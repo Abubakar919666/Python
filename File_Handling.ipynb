{
  "nbformat": 4,
  "nbformat_minor": 0,
  "metadata": {
    "colab": {
      "provenance": [],
      "authorship_tag": "ABX9TyPUBMB4iFyR3bUHOFlbEIe9",
      "include_colab_link": true
    },
    "kernelspec": {
      "name": "python3",
      "display_name": "Python 3"
    },
    "language_info": {
      "name": "python"
    }
  },
  "cells": [
    {
      "cell_type": "markdown",
      "metadata": {
        "id": "view-in-github",
        "colab_type": "text"
      },
      "source": [
        "<a href=\"https://colab.research.google.com/github/Abubakar919666/Python/blob/main/File_Handling.ipynb\" target=\"_parent\"><img src=\"https://colab.research.google.com/assets/colab-badge.svg\" alt=\"Open In Colab\"/></a>"
      ]
    },
    {
      "cell_type": "markdown",
      "source": [
        "#**File Handling**\n",
        "\n",
        "So far we have seen different Python data types. We usually store our data in different file formats. In addition to handling files, we will also see different file formats(.txt, .json, .xml, .csv, .tsv, .excel) in this section. First, let us get familiar with handling files with common file format(.txt).\n",
        "\n",
        "\n",
        "\n",
        "\n",
        "File handling is an import part of programming which allows us to create, read, update and delete files. In Python to handle data we use open() built-in function.\n"
      ],
      "metadata": {
        "id": "E_GLwJDwJSHM"
      }
    },
    {
      "cell_type": "code",
      "source": [
        "open('filename', \"mode\") # mode(r, a, w, x, t,b)  could be to read, write, update"
      ],
      "metadata": {
        "id": "i5lvBaSIkUO3"
      },
      "execution_count": null,
      "outputs": []
    },
    {
      "cell_type": "markdown",
      "source": [
        "*   \"r\" - Read - Default value. Opens a file for reading, it returns an error if the file does not exist\n",
        "*   \"a\" - Append - Opens a file for appending, creates the file if it does not exist\n",
        "*   \"w\" - Write - Opens a file for writing, creates the file if it does not exist\n",
        "*   \"x\" - Create - Creates the specified file, returns an error if the file exists\n",
        "*   \"t\" - Text - Default value. Text mode\n",
        "*   \"b\" - Binary - Binary mode (e.g. images)\n",
        "\n",
        "\n",
        "\n"
      ],
      "metadata": {
        "id": "HJt-8OHPLgnq"
      }
    },
    {
      "cell_type": "markdown",
      "source": [
        "**Opening Files for Reading**\n",
        "\n",
        "The default mode of open is reading, so we do not have to specify 'r' or 'rt'. I have created and saved a file named reading_file_example.txt in the files directory. Let us see how it is done:"
      ],
      "metadata": {
        "id": "-SBEK-0GMKhV"
      }
    },
    {
      "cell_type": "code",
      "source": [],
      "metadata": {
        "id": "Q04D2kH9MZLI"
      },
      "execution_count": null,
      "outputs": []
    }
  ]
}