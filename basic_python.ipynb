{
  "nbformat": 4,
  "nbformat_minor": 0,
  "metadata": {
    "colab": {
      "provenance": [],
      "authorship_tag": "ABX9TyPZlGo90PV/2odK8FZGGdmV",
      "include_colab_link": true
    },
    "kernelspec": {
      "name": "python3",
      "display_name": "Python 3"
    },
    "language_info": {
      "name": "python"
    }
  },
  "cells": [
    {
      "cell_type": "markdown",
      "metadata": {
        "id": "view-in-github",
        "colab_type": "text"
      },
      "source": [
        "<a href=\"https://colab.research.google.com/github/Abubakar919666/Python/blob/main/basic_python.ipynb\" target=\"_parent\"><img src=\"https://colab.research.google.com/assets/colab-badge.svg\" alt=\"Open In Colab\"/></a>"
      ]
    },
    {
      "cell_type": "code",
      "execution_count": null,
      "metadata": {
        "id": "nwusNECujl_Y"
      },
      "outputs": [],
      "source": [
        "import sys\n",
        "import keyword\n",
        "import operator\n",
        "from datetime import datetime\n",
        "import os"
      ]
    },
    {
      "cell_type": "code",
      "source": [
        "print(keyword.kwlist)"
      ],
      "metadata": {
        "colab": {
          "base_uri": "https://localhost:8080/"
        },
        "id": "pye7KCw7hKdY",
        "outputId": "8e862189-bc5a-43bd-95dc-fd6870246760"
      },
      "execution_count": null,
      "outputs": [
        {
          "output_type": "stream",
          "name": "stdout",
          "text": [
            "['False', 'None', 'True', 'and', 'as', 'assert', 'async', 'await', 'break', 'class', 'continue', 'def', 'del', 'elif', 'else', 'except', 'finally', 'for', 'from', 'global', 'if', 'import', 'in', 'is', 'lambda', 'nonlocal', 'not', 'or', 'pass', 'raise', 'return', 'try', 'while', 'with', 'yield']\n"
          ]
        }
      ]
    },
    {
      "cell_type": "code",
      "source": [
        "len(keyword.kwlist)"
      ],
      "metadata": {
        "colab": {
          "base_uri": "https://localhost:8080/"
        },
        "id": "-zRHrYaVhNX8",
        "outputId": "be51b15a-93a0-474b-e1d5-94444f089105"
      },
      "execution_count": null,
      "outputs": [
        {
          "output_type": "execute_result",
          "data": {
            "text/plain": [
              "35"
            ]
          },
          "metadata": {},
          "execution_count": 3
        }
      ]
    },
    {
      "cell_type": "code",
      "source": [
        "for i in range(1, 6):\n",
        "    print(i,\"-\",i*i)"
      ],
      "metadata": {
        "colab": {
          "base_uri": "https://localhost:8080/"
        },
        "id": "ljFknd22hPd-",
        "outputId": "5f9f3876-e582-4a29-d662-0acd64688157"
      },
      "execution_count": null,
      "outputs": [
        {
          "output_type": "stream",
          "name": "stdout",
          "text": [
            "1 - 1\n",
            "2 - 4\n",
            "3 - 9\n",
            "4 - 16\n",
            "5 - 25\n"
          ]
        }
      ]
    },
    {
      "cell_type": "code",
      "source": [
        "for i in range(1, 6):\n",
        "    print(f\"{i}-{i ** 2}\")"
      ],
      "metadata": {
        "colab": {
          "base_uri": "https://localhost:8080/"
        },
        "id": "cpsFR-m4hSRO",
        "outputId": "284ab7da-f81d-4043-b9e6-681b4fc66623"
      },
      "execution_count": null,
      "outputs": [
        {
          "output_type": "stream",
          "name": "stdout",
          "text": [
            "1-1\n",
            "2-4\n",
            "3-9\n",
            "4-16\n",
            "5-25\n"
          ]
        }
      ]
    },
    {
      "cell_type": "markdown",
      "source": [
        "# Docstrings\n",
        "1) Docstrings provide a convenient way of associating documentation with functions, classes, methods or modules.\n",
        "\n",
        "2) They appear right after the definition of a function, method, class, or module"
      ],
      "metadata": {
        "id": "Sey5XphugD-C"
      }
    },
    {
      "cell_type": "code",
      "source": [
        "def squre(num):\n",
        "  '''Square Function :- This function will return the square of a number'''\n",
        "  return num ** 2"
      ],
      "metadata": {
        "id": "impqYjkegHA6"
      },
      "execution_count": null,
      "outputs": []
    },
    {
      "cell_type": "code",
      "source": [
        "squre(4)"
      ],
      "metadata": {
        "id": "gLdeK5RFg77q",
        "outputId": "e9fa48f3-0e07-4a51-a209-3c3a7248e6d4",
        "colab": {
          "base_uri": "https://localhost:8080/"
        }
      },
      "execution_count": null,
      "outputs": [
        {
          "output_type": "execute_result",
          "data": {
            "text/plain": [
              "16"
            ]
          },
          "metadata": {},
          "execution_count": 6
        }
      ]
    },
    {
      "cell_type": "code",
      "source": [
        "squre.__doc__"
      ],
      "metadata": {
        "id": "j067OswLg_ig",
        "outputId": "2c7eba16-949d-4503-c23c-590df3a0ffc5",
        "colab": {
          "base_uri": "https://localhost:8080/",
          "height": 35
        }
      },
      "execution_count": null,
      "outputs": [
        {
          "output_type": "execute_result",
          "data": {
            "text/plain": [
              "'Square Function :- This function will return the square of a number'"
            ],
            "application/vnd.google.colaboratory.intrinsic+json": {
              "type": "string"
            }
          },
          "metadata": {},
          "execution_count": 7
        }
      ]
    },
    {
      "cell_type": "code",
      "source": [
        "def evenodd(num):\n",
        "  '''Even Odd Function :- This function will check whether a number is even or odd'''\n",
        "  if num % 2 == 0:\n",
        "    print(f\"{num} is even\")\n",
        "  else:\n",
        "    print(f\"{num} is odd\")"
      ],
      "metadata": {
        "id": "FbaQXXb2hPn9"
      },
      "execution_count": null,
      "outputs": []
    },
    {
      "cell_type": "code",
      "source": [
        "evenodd(4)"
      ],
      "metadata": {
        "id": "ze5xVym8iUL3",
        "outputId": "ff991a33-81cc-4c64-b951-2a23e9e94c2b",
        "colab": {
          "base_uri": "https://localhost:8080/"
        }
      },
      "execution_count": null,
      "outputs": [
        {
          "output_type": "stream",
          "name": "stdout",
          "text": [
            "4 is even\n"
          ]
        }
      ]
    },
    {
      "cell_type": "code",
      "source": [
        "evenodd.__doc__"
      ],
      "metadata": {
        "id": "zqYiN1KAiXWx",
        "outputId": "32d273e6-d717-4c4e-e95d-958a70902795",
        "colab": {
          "base_uri": "https://localhost:8080/",
          "height": 35
        }
      },
      "execution_count": null,
      "outputs": [
        {
          "output_type": "execute_result",
          "data": {
            "text/plain": [
              "'Even Odd Function :- This function will check whether a number is even or odd'"
            ],
            "application/vnd.google.colaboratory.intrinsic+json": {
              "type": "string"
            }
          },
          "metadata": {},
          "execution_count": 12
        }
      ]
    },
    {
      "cell_type": "code",
      "source": [
        "mylist = ['one', 'two', 'three', 'four', 'five', 'six', 'seven', 'eight', 'nine']"
      ],
      "metadata": {
        "id": "itl-tIVTjMBH"
      },
      "execution_count": 1,
      "outputs": []
    },
    {
      "cell_type": "code",
      "source": [],
      "metadata": {
        "id": "J7yt4yuI5ynf"
      },
      "execution_count": null,
      "outputs": []
    }
  ]
}