{
  "nbformat": 4,
  "nbformat_minor": 0,
  "metadata": {
    "colab": {
      "provenance": [],
      "mount_file_id": "1flRgXYwAYeUUEm5Q4mjv14H310uqO7QF",
      "authorship_tag": "ABX9TyOFSookXmZXcIAnJnrXiUoh",
      "include_colab_link": true
    },
    "kernelspec": {
      "name": "python3",
      "display_name": "Python 3"
    },
    "language_info": {
      "name": "python"
    }
  },
  "cells": [
    {
      "cell_type": "markdown",
      "metadata": {
        "id": "view-in-github",
        "colab_type": "text"
      },
      "source": [
        "<a href=\"https://colab.research.google.com/github/Abubakar919666/Python/blob/main/Functions.ipynb\" target=\"_parent\"><img src=\"https://colab.research.google.com/assets/colab-badge.svg\" alt=\"Open In Colab\"/></a>"
      ]
    },
    {
      "cell_type": "markdown",
      "source": [
        "# **Functions**\n",
        "- A function is a block of organized code written to carry out a specified task.\n",
        "- Functions help break our program into smaller and modular chunks for better\n",
        "  readability.\n",
        "- Information can be passed into a function as arguments.\n",
        "- Parameters are specified after the function name inside the parentheses.\n",
        "- We can add as many parameters as we want. Parameters must be separated with a comma.\n",
        "- A function may or may not return data.\n",
        "- In Python a function is defined using the def keyword"
      ],
      "metadata": {
        "id": "xbPkK-DYaeyS"
      }
    },
    {
      "cell_type": "markdown",
      "source": [
        "# Parameter VS Argument\n",
        "- A parameter is the variable listed inside the parentheses in the function definition.\n",
        "- An argument is the value that is sent to the function when it is called.\n"
      ],
      "metadata": {
        "id": "p3FzHM29exnW"
      }
    },
    {
      "cell_type": "markdown",
      "source": [
        "# Three types of functions in Python:\n",
        "- **Built-in function :-**  Python predefined functions that are readily available for use like min() ,\n",
        "max() , sum() , print() etc.\n",
        "- **User-Defined Functions:-** Function that we define ourselves to perform a specific task.\n",
        "- **Anonymous functions :-** Function that is defined without a name. Anonymous functions are\n",
        "also called as lambda functions. They are not declared with the def keyword"
      ],
      "metadata": {
        "id": "Q_5KRG05gPGE"
      }
    },
    {
      "cell_type": "code",
      "source": [
        "def functionName(parameter)\n",
        "  \"\"\"funtion doc string\"\"\"\n",
        "  statement(s)\n",
        "  return[expression]"
      ],
      "metadata": {
        "colab": {
          "base_uri": "https://localhost:8080/",
          "height": 106
        },
        "id": "FEUKEB5drVWW",
        "outputId": "deeab8b6-fcb4-4172-9b88-48c9b795386f"
      },
      "execution_count": null,
      "outputs": [
        {
          "output_type": "error",
          "ename": "SyntaxError",
          "evalue": "expected ':' (<ipython-input-10-49297e252cff>, line 1)",
          "traceback": [
            "\u001b[0;36m  File \u001b[0;32m\"<ipython-input-10-49297e252cff>\"\u001b[0;36m, line \u001b[0;32m1\u001b[0m\n\u001b[0;31m    def functionName(parameter)\u001b[0m\n\u001b[0m                               ^\u001b[0m\n\u001b[0;31mSyntaxError\u001b[0m\u001b[0;31m:\u001b[0m expected ':'\n"
          ]
        }
      ]
    },
    {
      "cell_type": "code",
      "source": [
        "def myfunc():\n",
        "  print(\"abubakar\")\n",
        "\n",
        "myfunc()"
      ],
      "metadata": {
        "colab": {
          "base_uri": "https://localhost:8080/"
        },
        "id": "LYN8P-AQpUAc",
        "outputId": "ec706232-3069-465a-d60f-dee6cc5b9443"
      },
      "execution_count": null,
      "outputs": [
        {
          "output_type": "stream",
          "name": "stdout",
          "text": [
            "abubakar\n"
          ]
        }
      ]
    },
    {
      "cell_type": "code",
      "source": [
        "def fullname (firstname , middlename ,lastname): #Concatenate Strings\n",
        " fullname = \"{} {} {}\".format(firstname,middlename,lastname)\n",
        " print (fullname)\n",
        "fullname('Asif' , 'Ali' , 'Bhat')\n"
      ],
      "metadata": {
        "colab": {
          "base_uri": "https://localhost:8080/"
        },
        "id": "w8SJCPusrShs",
        "outputId": "476bb8d3-4c36-43ae-a910-fe45f5d1fcd2"
      },
      "execution_count": null,
      "outputs": [
        {
          "output_type": "stream",
          "name": "stdout",
          "text": [
            "Asif Ali Bhat\n"
          ]
        }
      ]
    },
    {
      "cell_type": "code",
      "source": [
        "def fullname (lastname, middlename ,firstname ): #Concatenate Strings\n",
        " fullname = \"{} {} {}\".format(firstname,middlename,lastname)\n",
        " print (fullname)\n",
        "fullname(lastname = 'Bhat' , middlename='Ali' , firstname='Asif') # Keyword Argument"
      ],
      "metadata": {
        "id": "RloPDVD87WYF"
      },
      "execution_count": null,
      "outputs": []
    },
    {
      "cell_type": "code",
      "source": [
        "fullname (\"Asif\", \"ali\", \"bhat\")"
      ],
      "metadata": {
        "colab": {
          "base_uri": "https://localhost:8080/"
        },
        "id": "FQqhv6FW8GoN",
        "outputId": "d1f38547-d5fd-4bc4-925d-97380e505f92"
      },
      "execution_count": null,
      "outputs": [
        {
          "output_type": "stream",
          "name": "stdout",
          "text": [
            "bhat ali Asif\n"
          ]
        }
      ]
    },
    {
      "cell_type": "code",
      "source": [
        "def myfunc(city = 'Mumbai'):\n",
        " print('Most Populous City :- ', city)\n",
        "\n",
        "myfunc() # When a function is called without an argument it will use default value"
      ],
      "metadata": {
        "colab": {
          "base_uri": "https://localhost:8080/"
        },
        "id": "KvUehjZ69JNM",
        "outputId": "3683b0d2-dd82-41e4-fcc8-f92385409a74"
      },
      "execution_count": null,
      "outputs": [
        {
          "output_type": "stream",
          "name": "stdout",
          "text": [
            "Most Populous City :-  Mumbai\n"
          ]
        }
      ]
    },
    {
      "cell_type": "code",
      "source": [
        "var1 = 100 # Variable with Global scope.\n",
        "def myfunc():\n",
        " print(var1) # Value 100 will be displayed due to global scope of var1\n",
        "\n",
        "myfunc()\n",
        "print(var1)"
      ],
      "metadata": {
        "colab": {
          "base_uri": "https://localhost:8080/"
        },
        "id": "LEqAhaQO_AIV",
        "outputId": "aa7e6f4e-4bd5-467e-a73b-0379e3ded6ed"
      },
      "execution_count": null,
      "outputs": [
        {
          "output_type": "stream",
          "name": "stdout",
          "text": [
            "100\n",
            "100\n"
          ]
        }
      ]
    },
    {
      "cell_type": "code",
      "source": [
        "def myfunc1():\n",
        " var2 = 10 # Variable with Local scope\n",
        " print(var2)\n",
        " def myfunc2():\n",
        " print(var2) # This will throw error because var2 has a local scope. Var2 is o\n",
        "myfunc1()\n",
        "myfunc2()"
      ],
      "metadata": {
        "colab": {
          "base_uri": "https://localhost:8080/",
          "height": 106
        },
        "id": "ED_QVa4f_b9A",
        "outputId": "32216240-670b-4cc2-af7f-2ea28f40c85f"
      },
      "execution_count": null,
      "outputs": [
        {
          "output_type": "error",
          "ename": "IndentationError",
          "evalue": "expected an indented block after function definition on line 4 (<ipython-input-33-95ed99628054>, line 5)",
          "traceback": [
            "\u001b[0;36m  File \u001b[0;32m\"<ipython-input-33-95ed99628054>\"\u001b[0;36m, line \u001b[0;32m5\u001b[0m\n\u001b[0;31m    print(var2) # This will throw error because var2 has a local scope. Var2 is o\u001b[0m\n\u001b[0m    ^\u001b[0m\n\u001b[0;31mIndentationError\u001b[0m\u001b[0;31m:\u001b[0m expected an indented block after function definition on line 4\n"
          ]
        }
      ]
    },
    {
      "cell_type": "code",
      "source": [
        "var1 = 100 # Variable with Global scope.\n",
        "def myfunc():\n",
        " var1 = 99 # Local scope\n",
        " print(var1)\n",
        "myfunc()\n",
        "print(var1) # The original value of var1 (100) will be retained due to global scope"
      ],
      "metadata": {
        "colab": {
          "base_uri": "https://localhost:8080/"
        },
        "id": "Qdm7qy1TAzsC",
        "outputId": "c5d80232-7328-4a28-c731-520c04d4b9f9"
      },
      "execution_count": null,
      "outputs": [
        {
          "output_type": "stream",
          "name": "stdout",
          "text": [
            "99\n",
            "100\n"
          ]
        }
      ]
    },
    {
      "cell_type": "code",
      "source": [
        "list1 = [11,22,33,44,55]\n",
        "def myfunc(list1):\n",
        " del list1[0]\n",
        " return list1\n",
        "# print('\"List1\" before calling the function:- ',list1)\n",
        "myfunc(list1) # Pass by reference (Any change in the parameter within the function)\n",
        "# print('\"List1\" after calling the function:- ',list1)"
      ],
      "metadata": {
        "colab": {
          "base_uri": "https://localhost:8080/"
        },
        "id": "xsglI76eBbbQ",
        "outputId": "ef5055d3-1af2-4c3f-943e-4a2669938c6a"
      },
      "execution_count": null,
      "outputs": [
        {
          "output_type": "execute_result",
          "data": {
            "text/plain": [
              "[22, 33, 44, 55]"
            ]
          },
          "metadata": {},
          "execution_count": 43
        }
      ]
    },
    {
      "cell_type": "code",
      "source": [
        "list1 = [11,22,33,44,55]\n",
        "def myfunc(list1):\n",
        " list1.append(100)\n",
        "print('\"List1\" before calling the function:- ',list1)\n",
        "myfunc(list1) # Pass by reference (Any change in the parameter within the function\n",
        "print('\"List1\" after calling the function:- ',list1)\n"
      ],
      "metadata": {
        "colab": {
          "base_uri": "https://localhost:8080/"
        },
        "id": "4wh56iiiCz2r",
        "outputId": "41d01741-5289-4bfd-fab2-4bc36bd05c00"
      },
      "execution_count": null,
      "outputs": [
        {
          "output_type": "stream",
          "name": "stdout",
          "text": [
            "\"List1\" before calling the function:-  [11, 22, 33, 44, 55]\n",
            "\"List1\" after calling the function:-  [11, 22, 33, 44, 55, 100]\n"
          ]
        }
      ]
    },
    {
      "cell_type": "code",
      "source": [
        "list1 = [11,22,33,44,55]\n",
        "def myfunc(list1):\n",
        " list1 = [10,100,1000,10000] # link of 'list1' with previous object is broken\n",
        " print('\"List1\" before calling the function:- ',list1)\n",
        "myfunc(list1) # Pass by reference (Any change in the parameter within the functi\n",
        "print('\"List1\" after calling the function:- ',list1)\n"
      ],
      "metadata": {
        "colab": {
          "base_uri": "https://localhost:8080/"
        },
        "id": "BvT5drCME5qY",
        "outputId": "8e089b38-ce86-4f7e-fdbe-a9b4512c9968"
      },
      "execution_count": null,
      "outputs": [
        {
          "output_type": "stream",
          "name": "stdout",
          "text": [
            "\"List1\" before calling the function:-  [10, 100, 1000, 10000]\n",
            "\"List1\" after calling the function:-  [11, 22, 33, 44, 55]\n"
          ]
        }
      ]
    },
    {
      "cell_type": "code",
      "source": [
        "def swap(a,b):\n",
        " temp = a\n",
        " a=b # link of 'a' with previous object is broken now as new object is\n",
        " b = temp # link of 'b' with previous object is broken now as new object is\n",
        "a = 10\n",
        "b = 20\n",
        "swap(a,b)\n",
        "a,b\n"
      ],
      "metadata": {
        "colab": {
          "base_uri": "https://localhost:8080/"
        },
        "id": "wbkvwAOFFUN2",
        "outputId": "1bbc6961-ce2c-483b-96bd-ff21d97424f1"
      },
      "execution_count": null,
      "outputs": [
        {
          "output_type": "execute_result",
          "data": {
            "text/plain": [
              "(10, 20)"
            ]
          },
          "metadata": {},
          "execution_count": 1
        }
      ]
    },
    {
      "cell_type": "code",
      "source": [
        "def factorial(num): # Calculate factorial of a number using recursive function c\n",
        " if num <=1 :\n",
        "  return 1\n",
        " else:\n",
        "  return num * factorial(num-1)\n",
        "\n",
        "factorial(4)"
      ],
      "metadata": {
        "id": "QpTqtUMBGnFM",
        "colab": {
          "base_uri": "https://localhost:8080/"
        },
        "outputId": "b2c9e51d-67ea-47ae-c707-e9c434589cc7"
      },
      "execution_count": null,
      "outputs": [
        {
          "output_type": "execute_result",
          "data": {
            "text/plain": [
              "24"
            ]
          },
          "metadata": {},
          "execution_count": 3
        }
      ]
    },
    {
      "cell_type": "code",
      "source": [
        "def factorial(n):\n",
        " if n ==0 :\n",
        "  return 1\n",
        " else:\n",
        "  return n * factorial(n-0)\n",
        "\n",
        "factorial(4)"
      ],
      "metadata": {
        "colab": {
          "base_uri": "https://localhost:8080/",
          "height": 356
        },
        "id": "2-Glg5kR2UW5",
        "outputId": "337ee7c1-ead0-48c6-cb1f-6fd89fea7b02"
      },
      "execution_count": null,
      "outputs": [
        {
          "output_type": "error",
          "ename": "RecursionError",
          "evalue": "maximum recursion depth exceeded",
          "traceback": [
            "\u001b[0;31m---------------------------------------------------------------------------\u001b[0m",
            "\u001b[0;31mRecursionError\u001b[0m                            Traceback (most recent call last)",
            "\u001b[0;32m<ipython-input-8-b40b9699edc7>\u001b[0m in \u001b[0;36m<cell line: 0>\u001b[0;34m()\u001b[0m\n\u001b[1;32m      5\u001b[0m   \u001b[0;32mreturn\u001b[0m \u001b[0mn\u001b[0m \u001b[0;34m*\u001b[0m \u001b[0mfactorial\u001b[0m\u001b[0;34m(\u001b[0m\u001b[0mn\u001b[0m\u001b[0;34m-\u001b[0m\u001b[0;36m0\u001b[0m\u001b[0;34m)\u001b[0m\u001b[0;34m\u001b[0m\u001b[0;34m\u001b[0m\u001b[0m\n\u001b[1;32m      6\u001b[0m \u001b[0;34m\u001b[0m\u001b[0m\n\u001b[0;32m----> 7\u001b[0;31m \u001b[0mfactorial\u001b[0m\u001b[0;34m(\u001b[0m\u001b[0;36m4\u001b[0m\u001b[0;34m)\u001b[0m\u001b[0;34m\u001b[0m\u001b[0;34m\u001b[0m\u001b[0m\n\u001b[0m",
            "\u001b[0;32m<ipython-input-8-b40b9699edc7>\u001b[0m in \u001b[0;36mfactorial\u001b[0;34m(n)\u001b[0m\n\u001b[1;32m      3\u001b[0m   \u001b[0;32mreturn\u001b[0m \u001b[0;36m1\u001b[0m\u001b[0;34m\u001b[0m\u001b[0;34m\u001b[0m\u001b[0m\n\u001b[1;32m      4\u001b[0m  \u001b[0;32melse\u001b[0m\u001b[0;34m:\u001b[0m\u001b[0;34m\u001b[0m\u001b[0;34m\u001b[0m\u001b[0m\n\u001b[0;32m----> 5\u001b[0;31m   \u001b[0;32mreturn\u001b[0m \u001b[0mn\u001b[0m \u001b[0;34m*\u001b[0m \u001b[0mfactorial\u001b[0m\u001b[0;34m(\u001b[0m\u001b[0mn\u001b[0m\u001b[0;34m-\u001b[0m\u001b[0;36m0\u001b[0m\u001b[0;34m)\u001b[0m\u001b[0;34m\u001b[0m\u001b[0;34m\u001b[0m\u001b[0m\n\u001b[0m\u001b[1;32m      6\u001b[0m \u001b[0;34m\u001b[0m\u001b[0m\n\u001b[1;32m      7\u001b[0m \u001b[0mfactorial\u001b[0m\u001b[0;34m(\u001b[0m\u001b[0;36m4\u001b[0m\u001b[0;34m)\u001b[0m\u001b[0;34m\u001b[0m\u001b[0;34m\u001b[0m\u001b[0m\n",
            "... last 1 frames repeated, from the frame below ...\n",
            "\u001b[0;32m<ipython-input-8-b40b9699edc7>\u001b[0m in \u001b[0;36mfactorial\u001b[0;34m(n)\u001b[0m\n\u001b[1;32m      3\u001b[0m   \u001b[0;32mreturn\u001b[0m \u001b[0;36m1\u001b[0m\u001b[0;34m\u001b[0m\u001b[0;34m\u001b[0m\u001b[0m\n\u001b[1;32m      4\u001b[0m  \u001b[0;32melse\u001b[0m\u001b[0;34m:\u001b[0m\u001b[0;34m\u001b[0m\u001b[0;34m\u001b[0m\u001b[0m\n\u001b[0;32m----> 5\u001b[0;31m   \u001b[0;32mreturn\u001b[0m \u001b[0mn\u001b[0m \u001b[0;34m*\u001b[0m \u001b[0mfactorial\u001b[0m\u001b[0;34m(\u001b[0m\u001b[0mn\u001b[0m\u001b[0;34m-\u001b[0m\u001b[0;36m0\u001b[0m\u001b[0;34m)\u001b[0m\u001b[0;34m\u001b[0m\u001b[0;34m\u001b[0m\u001b[0m\n\u001b[0m\u001b[1;32m      6\u001b[0m \u001b[0;34m\u001b[0m\u001b[0m\n\u001b[1;32m      7\u001b[0m \u001b[0mfactorial\u001b[0m\u001b[0;34m(\u001b[0m\u001b[0;36m4\u001b[0m\u001b[0;34m)\u001b[0m\u001b[0;34m\u001b[0m\u001b[0;34m\u001b[0m\u001b[0m\n",
            "\u001b[0;31mRecursionError\u001b[0m: maximum recursion depth exceeded"
          ]
        }
      ]
    },
    {
      "cell_type": "code",
      "source": [
        "def add(num): # Sum of first n natural numbers\n",
        " if num == 0:\n",
        "  return 0\n",
        " else:\n",
        "  return num + add(num-1)\n",
        "add(5) # Sum of first five natural numbers (1,2,3,4,5)"
      ],
      "metadata": {
        "id": "QgUSNCCF5Gd8",
        "outputId": "a1c843c2-3ab6-438d-e7fa-5331745affbf",
        "colab": {
          "base_uri": "https://localhost:8080/"
        }
      },
      "execution_count": 1,
      "outputs": [
        {
          "output_type": "execute_result",
          "data": {
            "text/plain": [
              "15"
            ]
          },
          "metadata": {},
          "execution_count": 1
        }
      ]
    },
    {
      "cell_type": "code",
      "source": [
        "def fiboacci(num):\n",
        " if num <= 1:\n",
        "  return num\n",
        " if num == 2:\n",
        "  return 1\n",
        " else:\n",
        "  return(fiboacci(num-1) + fiboacci(num-2))\n",
        "nums = int(input(\"How many fibonacci numbers you want to generate -\"))\n",
        "for i in range(nums):\n",
        " print(fiboacci(i)) # Generate Fibonacci series"
      ],
      "metadata": {
        "id": "bEuW_fyGPU57",
        "outputId": "087fbeea-e72e-4570-f910-d4ba3809c06a",
        "colab": {
          "base_uri": "https://localhost:8080/"
        }
      },
      "execution_count": 2,
      "outputs": [
        {
          "output_type": "stream",
          "name": "stdout",
          "text": [
            "How many fibonacci numbers you want to generate -33\n",
            "0\n",
            "1\n",
            "1\n",
            "2\n",
            "3\n",
            "5\n",
            "8\n",
            "13\n",
            "21\n",
            "34\n",
            "55\n",
            "89\n",
            "144\n",
            "233\n",
            "377\n",
            "610\n",
            "987\n",
            "1597\n",
            "2584\n",
            "4181\n",
            "6765\n",
            "10946\n",
            "17711\n",
            "28657\n",
            "46368\n",
            "75025\n",
            "121393\n",
            "196418\n",
            "317811\n",
            "514229\n",
            "832040\n",
            "1346269\n",
            "2178309\n"
          ]
        }
      ]
    },
    {
      "cell_type": "code",
      "source": [],
      "metadata": {
        "id": "L6W38Q1lPeWa"
      },
      "execution_count": null,
      "outputs": []
    }
  ]
}