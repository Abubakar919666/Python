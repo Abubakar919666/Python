{
  "nbformat": 4,
  "nbformat_minor": 0,
  "metadata": {
    "colab": {
      "provenance": [],
      "mount_file_id": "1flRgXYwAYeUUEm5Q4mjv14H310uqO7QF",
      "authorship_tag": "ABX9TyP9V9vxBhof36Ow0ijCuJKt",
      "include_colab_link": true
    },
    "kernelspec": {
      "name": "python3",
      "display_name": "Python 3"
    },
    "language_info": {
      "name": "python"
    }
  },
  "cells": [
    {
      "cell_type": "markdown",
      "metadata": {
        "id": "view-in-github",
        "colab_type": "text"
      },
      "source": [
        "<a href=\"https://colab.research.google.com/github/Abubakar919666/Python/blob/main/Functions.ipynb\" target=\"_parent\"><img src=\"https://colab.research.google.com/assets/colab-badge.svg\" alt=\"Open In Colab\"/></a>"
      ]
    },
    {
      "cell_type": "markdown",
      "source": [
        "# **Functions**\n",
        "- A function is a block of organized code written to carry out a specified task.\n",
        "- Functions help break our program into smaller and modular chunks for better\n",
        "  readability.\n",
        "- Information can be passed into a function as arguments.\n",
        "- Parameters are specified after the function name inside the parentheses.\n",
        "- We can add as many parameters as we want. Parameters must be separated with a comma.\n",
        "- A function may or may not return data.\n",
        "- In Python a function is defined using the def keyword"
      ],
      "metadata": {
        "id": "xbPkK-DYaeyS"
      }
    },
    {
      "cell_type": "markdown",
      "source": [
        "# Parameter VS Argument\n",
        "- A parameter is the variable listed inside the parentheses in the function definition.\n",
        "- An argument is the value that is sent to the function when it is called.\n"
      ],
      "metadata": {
        "id": "p3FzHM29exnW"
      }
    },
    {
      "cell_type": "markdown",
      "source": [
        "# Three types of functions in Python:\n",
        "- **Built-in function :-**  Python predefined functions that are readily available for use like min() ,\n",
        "max() , sum() , print() etc.\n",
        "- **User-Defined Functions:-** Function that we define ourselves to perform a specific task.\n",
        "- **Anonymous functions :-** Function that is defined without a name. Anonymous functions are\n",
        "also called as lambda functions. They are not declared with the def keyword"
      ],
      "metadata": {
        "id": "Q_5KRG05gPGE"
      }
    },
    {
      "cell_type": "code",
      "source": [
        "def functionName(parameter)\n",
        "  \"\"\"funtion doc string\"\"\"\n",
        "  statement(s)\n",
        "  return[expression]"
      ],
      "metadata": {
        "colab": {
          "base_uri": "https://localhost:8080/",
          "height": 106
        },
        "id": "FEUKEB5drVWW",
        "outputId": "deeab8b6-fcb4-4172-9b88-48c9b795386f"
      },
      "execution_count": 10,
      "outputs": [
        {
          "output_type": "error",
          "ename": "SyntaxError",
          "evalue": "expected ':' (<ipython-input-10-49297e252cff>, line 1)",
          "traceback": [
            "\u001b[0;36m  File \u001b[0;32m\"<ipython-input-10-49297e252cff>\"\u001b[0;36m, line \u001b[0;32m1\u001b[0m\n\u001b[0;31m    def functionName(parameter)\u001b[0m\n\u001b[0m                               ^\u001b[0m\n\u001b[0;31mSyntaxError\u001b[0m\u001b[0;31m:\u001b[0m expected ':'\n"
          ]
        }
      ]
    },
    {
      "cell_type": "code",
      "source": [
        "def myfunc():\n",
        "  print(\"abubakar\")\n",
        "\n",
        "myfunc()"
      ],
      "metadata": {
        "colab": {
          "base_uri": "https://localhost:8080/"
        },
        "id": "LYN8P-AQpUAc",
        "outputId": "ec706232-3069-465a-d60f-dee6cc5b9443"
      },
      "execution_count": 11,
      "outputs": [
        {
          "output_type": "stream",
          "name": "stdout",
          "text": [
            "abubakar\n"
          ]
        }
      ]
    },
    {
      "cell_type": "code",
      "source": [
        "def fullname (firstname , middlename ,lastname): #Concatenate Strings\n",
        " fullname = \"{} {} {}\".format(firstname,middlename,lastname)\n",
        " print (fullname)\n",
        "fullname('Asif' , 'Ali' , 'Bhat')\n"
      ],
      "metadata": {
        "colab": {
          "base_uri": "https://localhost:8080/"
        },
        "id": "w8SJCPusrShs",
        "outputId": "476bb8d3-4c36-43ae-a910-fe45f5d1fcd2"
      },
      "execution_count": 12,
      "outputs": [
        {
          "output_type": "stream",
          "name": "stdout",
          "text": [
            "Asif Ali Bhat\n"
          ]
        }
      ]
    },
    {
      "cell_type": "code",
      "source": [
        "def fullname (lastname, middlename ,firstname ): #Concatenate Strings\n",
        " fullname = \"{} {} {}\".format(firstname,middlename,lastname)\n",
        " print (fullname)\n",
        "fullname(lastname = 'Bhat' , middlename='Ali' , firstname='Asif') # Keyword Argument"
      ],
      "metadata": {
        "id": "RloPDVD87WYF"
      },
      "execution_count": 18,
      "outputs": []
    },
    {
      "cell_type": "code",
      "source": [
        "fullname (\"Asif\", \"ali\", \"bhat\")"
      ],
      "metadata": {
        "colab": {
          "base_uri": "https://localhost:8080/"
        },
        "id": "FQqhv6FW8GoN",
        "outputId": "d1f38547-d5fd-4bc4-925d-97380e505f92"
      },
      "execution_count": 21,
      "outputs": [
        {
          "output_type": "stream",
          "name": "stdout",
          "text": [
            "bhat ali Asif\n"
          ]
        }
      ]
    },
    {
      "cell_type": "code",
      "source": [
        "def myfunc(city = 'Mumbai'):\n",
        " print('Most Populous City :- ', city)\n",
        "\n",
        "myfunc() # When a function is called without an argument it will use default value"
      ],
      "metadata": {
        "colab": {
          "base_uri": "https://localhost:8080/"
        },
        "id": "KvUehjZ69JNM",
        "outputId": "3683b0d2-dd82-41e4-fcc8-f92385409a74"
      },
      "execution_count": 24,
      "outputs": [
        {
          "output_type": "stream",
          "name": "stdout",
          "text": [
            "Most Populous City :-  Mumbai\n"
          ]
        }
      ]
    },
    {
      "cell_type": "code",
      "source": [
        "var1 = 100 # Variable with Global scope.\n",
        "def myfunc():\n",
        " print(var1) # Value 100 will be displayed due to global scope of var1\n",
        "\n",
        "myfunc()\n",
        "print(var1)"
      ],
      "metadata": {
        "colab": {
          "base_uri": "https://localhost:8080/"
        },
        "id": "LEqAhaQO_AIV",
        "outputId": "aa7e6f4e-4bd5-467e-a73b-0379e3ded6ed"
      },
      "execution_count": 27,
      "outputs": [
        {
          "output_type": "stream",
          "name": "stdout",
          "text": [
            "100\n",
            "100\n"
          ]
        }
      ]
    },
    {
      "cell_type": "code",
      "source": [
        "def myfunc1():\n",
        " var2 = 10 # Variable with Local scope\n",
        " print(var2)\n",
        " def myfunc2():\n",
        " print(var2) # This will throw error because var2 has a local scope. Var2 is o\n",
        "myfunc1()\n",
        "myfunc2()"
      ],
      "metadata": {
        "colab": {
          "base_uri": "https://localhost:8080/",
          "height": 106
        },
        "id": "ED_QVa4f_b9A",
        "outputId": "32216240-670b-4cc2-af7f-2ea28f40c85f"
      },
      "execution_count": 33,
      "outputs": [
        {
          "output_type": "error",
          "ename": "IndentationError",
          "evalue": "expected an indented block after function definition on line 4 (<ipython-input-33-95ed99628054>, line 5)",
          "traceback": [
            "\u001b[0;36m  File \u001b[0;32m\"<ipython-input-33-95ed99628054>\"\u001b[0;36m, line \u001b[0;32m5\u001b[0m\n\u001b[0;31m    print(var2) # This will throw error because var2 has a local scope. Var2 is o\u001b[0m\n\u001b[0m    ^\u001b[0m\n\u001b[0;31mIndentationError\u001b[0m\u001b[0;31m:\u001b[0m expected an indented block after function definition on line 4\n"
          ]
        }
      ]
    },
    {
      "cell_type": "code",
      "source": [
        "var1 = 100 # Variable with Global scope.\n",
        "def myfunc():\n",
        " var1 = 99 # Local scope\n",
        " print(var1)\n",
        "myfunc()\n",
        "print(var1) # The original value of var1 (100) will be retained due to global scope"
      ],
      "metadata": {
        "colab": {
          "base_uri": "https://localhost:8080/"
        },
        "id": "Qdm7qy1TAzsC",
        "outputId": "c5d80232-7328-4a28-c731-520c04d4b9f9"
      },
      "execution_count": 37,
      "outputs": [
        {
          "output_type": "stream",
          "name": "stdout",
          "text": [
            "99\n",
            "100\n"
          ]
        }
      ]
    },
    {
      "cell_type": "code",
      "source": [
        "list1 = [11,22,33,44,55]\n",
        "def myfunc(list1):\n",
        " del list1[0]\n",
        " return list1\n",
        "# print('\"List1\" before calling the function:- ',list1)\n",
        "myfunc(list1) # Pass by reference (Any change in the parameter within the function)\n",
        "# print('\"List1\" after calling the function:- ',list1)"
      ],
      "metadata": {
        "colab": {
          "base_uri": "https://localhost:8080/"
        },
        "id": "xsglI76eBbbQ",
        "outputId": "ef5055d3-1af2-4c3f-943e-4a2669938c6a"
      },
      "execution_count": 43,
      "outputs": [
        {
          "output_type": "execute_result",
          "data": {
            "text/plain": [
              "[22, 33, 44, 55]"
            ]
          },
          "metadata": {},
          "execution_count": 43
        }
      ]
    },
    {
      "cell_type": "code",
      "source": [
        "list1 = [11,22,33,44,55]\n",
        "def myfunc(list1):\n",
        " list1.append(100)\n",
        "print('\"List1\" before calling the function:- ',list1)\n",
        "myfunc(list1) # Pass by reference (Any change in the parameter within the function\n",
        "print('\"List1\" after calling the function:- ',list1)\n"
      ],
      "metadata": {
        "colab": {
          "base_uri": "https://localhost:8080/"
        },
        "id": "4wh56iiiCz2r",
        "outputId": "41d01741-5289-4bfd-fab2-4bc36bd05c00"
      },
      "execution_count": 45,
      "outputs": [
        {
          "output_type": "stream",
          "name": "stdout",
          "text": [
            "\"List1\" before calling the function:-  [11, 22, 33, 44, 55]\n",
            "\"List1\" after calling the function:-  [11, 22, 33, 44, 55, 100]\n"
          ]
        }
      ]
    },
    {
      "cell_type": "code",
      "source": [
        "list1 = [11,22,33,44,55]\n",
        "def myfunc(list1):\n",
        " list1 = [10,100,1000,10000] # link of 'list1' with previous object is broken\n",
        " print('\"List1\" before calling the function:- ',list1)\n",
        "myfunc(list1) # Pass by reference (Any change in the parameter within the functi\n",
        "print('\"List1\" after calling the function:- ',list1)\n"
      ],
      "metadata": {
        "colab": {
          "base_uri": "https://localhost:8080/"
        },
        "id": "BvT5drCME5qY",
        "outputId": "8e089b38-ce86-4f7e-fdbe-a9b4512c9968"
      },
      "execution_count": 48,
      "outputs": [
        {
          "output_type": "stream",
          "name": "stdout",
          "text": [
            "\"List1\" before calling the function:-  [10, 100, 1000, 10000]\n",
            "\"List1\" after calling the function:-  [11, 22, 33, 44, 55]\n"
          ]
        }
      ]
    },
    {
      "cell_type": "code",
      "source": [
        "def swap(a,b):\n",
        " temp = a\n",
        " a = b # link of 'a' with previous object is broken now as new object is\n",
        " b = temp # link of 'b' with previous object is broken now as new object is\n",
        "a = 10\n",
        "b = 20\n",
        "swap(a,b)\n",
        "a,b\n"
      ],
      "metadata": {
        "colab": {
          "base_uri": "https://localhost:8080/"
        },
        "id": "wbkvwAOFFUN2",
        "outputId": "ce906da9-aa9f-4599-fa55-86605e6a5a5a"
      },
      "execution_count": 49,
      "outputs": [
        {
          "output_type": "execute_result",
          "data": {
            "text/plain": [
              "(10, 20)"
            ]
          },
          "metadata": {},
          "execution_count": 49
        }
      ]
    },
    {
      "cell_type": "code",
      "source": [],
      "metadata": {
        "id": "QpTqtUMBGnFM"
      },
      "execution_count": null,
      "outputs": []
    }
  ]
}