{
  "nbformat": 4,
  "nbformat_minor": 0,
  "metadata": {
    "colab": {
      "provenance": [],
      "mount_file_id": "1flRgXYwAYeUUEm5Q4mjv14H310uqO7QF",
      "authorship_tag": "ABX9TyNHRVgIwx7yNvxYZnnAM816",
      "include_colab_link": true
    },
    "kernelspec": {
      "name": "python3",
      "display_name": "Python 3"
    },
    "language_info": {
      "name": "python"
    }
  },
  "cells": [
    {
      "cell_type": "markdown",
      "metadata": {
        "id": "view-in-github",
        "colab_type": "text"
      },
      "source": [
        "<a href=\"https://colab.research.google.com/github/Abubakar919666/Python/blob/main/Functions.ipynb\" target=\"_parent\"><img src=\"https://colab.research.google.com/assets/colab-badge.svg\" alt=\"Open In Colab\"/></a>"
      ]
    },
    {
      "cell_type": "markdown",
      "source": [
        "# **Functions**\n",
        "- A function is a block of organized code written to carry out a specified task.\n",
        "- Functions help break our program into smaller and modular chunks for better\n",
        "  readability.\n",
        "- Information can be passed into a function as arguments.\n",
        "- Parameters are specified after the function name inside the parentheses.\n",
        "- We can add as many parameters as we want. Parameters must be separated with a comma.\n",
        "- A function may or may not return data.\n",
        "- In Python a function is defined using the def keyword"
      ],
      "metadata": {
        "id": "xbPkK-DYaeyS"
      }
    },
    {
      "cell_type": "markdown",
      "source": [
        "# Parameter VS Argument\n",
        "- A parameter is the variable listed inside the parentheses in the function definition.\n",
        "- An argument is the value that is sent to the function when it is called.\n"
      ],
      "metadata": {
        "id": "p3FzHM29exnW"
      }
    },
    {
      "cell_type": "markdown",
      "source": [
        "# Three types of functions in Python:\n",
        "- **Built-in function :-**  Python predefined functions that are readily available for use like min() ,\n",
        "max() , sum() , print() etc.\n",
        "- **User-Defined Functions:-** Function that we define ourselves to perform a specific task.\n",
        "- **Anonymous functions :-** Function that is defined without a name. Anonymous functions are\n",
        "also called as lambda functions. They are not declared with the def keyword"
      ],
      "metadata": {
        "id": "Q_5KRG05gPGE"
      }
    },
    {
      "cell_type": "code",
      "source": [
        "def functionName(parameter)\n",
        "  \"\"\"funtion doc string\"\"\"\n",
        "  statement(s)\n",
        "  return[expression]"
      ],
      "metadata": {
        "id": "FEUKEB5drVWW"
      },
      "execution_count": null,
      "outputs": []
    },
    {
      "cell_type": "code",
      "source": [
        "def myfunc():\n",
        "  print(\"abubakar\")\n",
        "\n",
        "myfunc()"
      ],
      "metadata": {
        "colab": {
          "base_uri": "https://localhost:8080/"
        },
        "id": "LYN8P-AQpUAc",
        "outputId": "25d4211b-ee3c-41a3-9bea-92df2c619b13"
      },
      "execution_count": 8,
      "outputs": [
        {
          "output_type": "stream",
          "name": "stdout",
          "text": [
            "abubakar\n"
          ]
        }
      ]
    },
    {
      "cell_type": "code",
      "source": [],
      "metadata": {
        "id": "w8SJCPusrShs"
      },
      "execution_count": null,
      "outputs": []
    }
  ]
}