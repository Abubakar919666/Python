{
  "cells": [
    {
      "cell_type": "markdown",
      "metadata": {
        "colab_type": "text",
        "id": "view-in-github"
      },
      "source": [
        "<a href=\"https://colab.research.google.com/github/Abubakar919666/Python/blob/main/Functions.ipynb\" target=\"_parent\"><img src=\"https://colab.research.google.com/assets/colab-badge.svg\" alt=\"Open In Colab\"/></a>"
      ]
    },
    {
      "cell_type": "markdown",
      "metadata": {
        "id": "xbPkK-DYaeyS"
      },
      "source": [
        "# **Functions**\n",
        "- A function is a block of organized code written to carry out a specified task.\n",
        "- Functions help break our program into smaller and modular chunks for better\n",
        "  readability.\n",
        "- Information can be passed into a function as arguments.\n",
        "- Parameters are specified after the function name inside the parentheses.\n",
        "- We can add as many parameters as we want. Parameters must be separated with a comma.\n",
        "- A function may or may not return data.\n",
        "- In Python a function is defined using the def keyword"
      ]
    },
    {
      "cell_type": "markdown",
      "metadata": {
        "id": "p3FzHM29exnW"
      },
      "source": [
        "# Parameter VS Argument\n",
        "- A parameter is the variable listed inside the parentheses in the function definition.\n",
        "- An argument is the value that is sent to the function when it is called.\n"
      ]
    },
    {
      "cell_type": "markdown",
      "metadata": {
        "id": "Q_5KRG05gPGE"
      },
      "source": [
        "# Three types of functions in Python:\n",
        "- **Built-in function :-**  Python predefined functions that are readily available for use like min() ,\n",
        "max() , sum() , print() etc.\n",
        "- **User-Defined Functions:-** Function that we define ourselves to perform a specific task.\n",
        "- **Anonymous functions :-** Function that is defined without a name. Anonymous functions are\n",
        "also called as lambda functions. They are not declared with the def keyword"
      ]
    },
    {
      "cell_type": "code",
      "execution_count": 1,
      "metadata": {
        "colab": {
          "base_uri": "https://localhost:8080/",
          "height": 106
        },
        "id": "FEUKEB5drVWW",
        "outputId": "deeab8b6-fcb4-4172-9b88-48c9b795386f"
      },
      "outputs": [],
      "source": [
        "# def functionName(parameter)\n",
        "#   \"\"\"funtion doc string\"\"\"\n",
        "#   statement(s)\n",
        "#   return[expression]"
      ]
    },
    {
      "cell_type": "code",
      "execution_count": 6,
      "metadata": {
        "colab": {
          "base_uri": "https://localhost:8080/"
        },
        "id": "LYN8P-AQpUAc",
        "outputId": "ec706232-3069-465a-d60f-dee6cc5b9443"
      },
      "outputs": [
        {
          "name": "stdout",
          "output_type": "stream",
          "text": [
            "abubakar\n"
          ]
        }
      ],
      "source": [
        "def myfunc(name):\n",
        "  print(\"abubakar\")\n",
        "\n",
        "myfunc(name=\"abubakr\")"
      ]
    },
    {
      "cell_type": "code",
      "execution_count": null,
      "metadata": {
        "colab": {
          "base_uri": "https://localhost:8080/"
        },
        "id": "w8SJCPusrShs",
        "outputId": "476bb8d3-4c36-43ae-a910-fe45f5d1fcd2"
      },
      "outputs": [
        {
          "name": "stdout",
          "output_type": "stream",
          "text": [
            "Asif Ali Bhat\n"
          ]
        }
      ],
      "source": [
        "def fullname (firstname , middlename ,lastname): #Concatenate Strings\n",
        " fullname = \"{} {} {}\".format(firstname,middlename,lastname)\n",
        " print (fullname)\n",
        "fullname('Asif' , 'Ali' , 'Bhat')\n"
      ]
    },
    {
      "cell_type": "code",
      "execution_count": null,
      "metadata": {
        "id": "RloPDVD87WYF"
      },
      "outputs": [],
      "source": [
        "def fullname (lastname, middlename ,firstname ): #Concatenate Strings\n",
        " fullname = \"{} {} {}\".format(firstname,middlename,lastname)\n",
        " print (fullname)\n",
        "fullname(lastname = 'Bhat' , middlename='Ali' , firstname='Asif') # Keyword Argument"
      ]
    },
    {
      "cell_type": "code",
      "execution_count": null,
      "metadata": {
        "colab": {
          "base_uri": "https://localhost:8080/"
        },
        "id": "FQqhv6FW8GoN",
        "outputId": "d1f38547-d5fd-4bc4-925d-97380e505f92"
      },
      "outputs": [
        {
          "name": "stdout",
          "output_type": "stream",
          "text": [
            "bhat ali Asif\n"
          ]
        }
      ],
      "source": [
        "fullname (\"Asif\", \"ali\", \"bhat\")"
      ]
    },
    {
      "cell_type": "code",
      "execution_count": null,
      "metadata": {
        "colab": {
          "base_uri": "https://localhost:8080/"
        },
        "id": "KvUehjZ69JNM",
        "outputId": "3683b0d2-dd82-41e4-fcc8-f92385409a74"
      },
      "outputs": [
        {
          "name": "stdout",
          "output_type": "stream",
          "text": [
            "Most Populous City :-  Mumbai\n"
          ]
        }
      ],
      "source": [
        "def myfunc(city = 'Mumbai'):\n",
        " print('Most Populous City :- ', city)\n",
        "\n",
        "myfunc() # When a function is called without an argument it will use default value"
      ]
    },
    {
      "cell_type": "code",
      "execution_count": null,
      "metadata": {
        "colab": {
          "base_uri": "https://localhost:8080/"
        },
        "id": "LEqAhaQO_AIV",
        "outputId": "aa7e6f4e-4bd5-467e-a73b-0379e3ded6ed"
      },
      "outputs": [
        {
          "name": "stdout",
          "output_type": "stream",
          "text": [
            "100\n",
            "100\n"
          ]
        }
      ],
      "source": [
        "var1 = 100 # Variable with Global scope.\n",
        "def myfunc():\n",
        " print(var1) # Value 100 will be displayed due to global scope of var1\n",
        "\n",
        "myfunc()\n",
        "print(var1)"
      ]
    },
    {
      "cell_type": "code",
      "execution_count": null,
      "metadata": {
        "colab": {
          "base_uri": "https://localhost:8080/",
          "height": 106
        },
        "id": "ED_QVa4f_b9A",
        "outputId": "32216240-670b-4cc2-af7f-2ea28f40c85f"
      },
      "outputs": [
        {
          "ename": "IndentationError",
          "evalue": "expected an indented block after function definition on line 4 (<ipython-input-33-95ed99628054>, line 5)",
          "output_type": "error",
          "traceback": [
            "\u001b[0;36m  File \u001b[0;32m\"<ipython-input-33-95ed99628054>\"\u001b[0;36m, line \u001b[0;32m5\u001b[0m\n\u001b[0;31m    print(var2) # This will throw error because var2 has a local scope. Var2 is o\u001b[0m\n\u001b[0m    ^\u001b[0m\n\u001b[0;31mIndentationError\u001b[0m\u001b[0;31m:\u001b[0m expected an indented block after function definition on line 4\n"
          ]
        }
      ],
      "source": [
        "def myfunc1():\n",
        " var2 = 10 # Variable with Local scope\n",
        " print(var2)\n",
        " def myfunc2():\n",
        " print(var2) # This will throw error because var2 has a local scope. Var2 is o\n",
        "myfunc1()\n",
        "myfunc2()"
      ]
    },
    {
      "cell_type": "code",
      "execution_count": null,
      "metadata": {
        "colab": {
          "base_uri": "https://localhost:8080/"
        },
        "id": "Qdm7qy1TAzsC",
        "outputId": "c5d80232-7328-4a28-c731-520c04d4b9f9"
      },
      "outputs": [
        {
          "name": "stdout",
          "output_type": "stream",
          "text": [
            "99\n",
            "100\n"
          ]
        }
      ],
      "source": [
        "var1 = 100 # Variable with Global scope.\n",
        "def myfunc():\n",
        " var1 = 99 # Local scope\n",
        " print(var1)\n",
        "myfunc()\n",
        "print(var1) # The original value of var1 (100) will be retained due to global scope"
      ]
    },
    {
      "cell_type": "code",
      "execution_count": null,
      "metadata": {
        "colab": {
          "base_uri": "https://localhost:8080/"
        },
        "id": "xsglI76eBbbQ",
        "outputId": "ef5055d3-1af2-4c3f-943e-4a2669938c6a"
      },
      "outputs": [
        {
          "data": {
            "text/plain": [
              "[22, 33, 44, 55]"
            ]
          },
          "execution_count": 43,
          "metadata": {},
          "output_type": "execute_result"
        }
      ],
      "source": [
        "list1 = [11,22,33,44,55]\n",
        "def myfunc(list1):\n",
        " del list1[0]\n",
        " return list1\n",
        "# print('\"List1\" before calling the function:- ',list1)\n",
        "myfunc(list1) # Pass by reference (Any change in the parameter within the function)\n",
        "# print('\"List1\" after calling the function:- ',list1)"
      ]
    },
    {
      "cell_type": "code",
      "execution_count": null,
      "metadata": {
        "colab": {
          "base_uri": "https://localhost:8080/"
        },
        "id": "4wh56iiiCz2r",
        "outputId": "41d01741-5289-4bfd-fab2-4bc36bd05c00"
      },
      "outputs": [
        {
          "name": "stdout",
          "output_type": "stream",
          "text": [
            "\"List1\" before calling the function:-  [11, 22, 33, 44, 55]\n",
            "\"List1\" after calling the function:-  [11, 22, 33, 44, 55, 100]\n"
          ]
        }
      ],
      "source": [
        "list1 = [11,22,33,44,55]\n",
        "def myfunc(list1):\n",
        " list1.append(100)\n",
        "print('\"List1\" before calling the function:- ',list1)\n",
        "myfunc(list1) # Pass by reference (Any change in the parameter within the function\n",
        "print('\"List1\" after calling the function:- ',list1)\n"
      ]
    },
    {
      "cell_type": "code",
      "execution_count": null,
      "metadata": {
        "colab": {
          "base_uri": "https://localhost:8080/"
        },
        "id": "BvT5drCME5qY",
        "outputId": "8e089b38-ce86-4f7e-fdbe-a9b4512c9968"
      },
      "outputs": [
        {
          "name": "stdout",
          "output_type": "stream",
          "text": [
            "\"List1\" before calling the function:-  [10, 100, 1000, 10000]\n",
            "\"List1\" after calling the function:-  [11, 22, 33, 44, 55]\n"
          ]
        }
      ],
      "source": [
        "list1 = [11,22,33,44,55]\n",
        "def myfunc(list1):\n",
        " list1 = [10,100,1000,10000] # link of 'list1' with previous object is broken\n",
        " print('\"List1\" before calling the function:- ',list1)\n",
        "myfunc(list1) # Pass by reference (Any change in the parameter within the functi\n",
        "print('\"List1\" after calling the function:- ',list1)\n"
      ]
    },
    {
      "cell_type": "code",
      "execution_count": null,
      "metadata": {
        "colab": {
          "base_uri": "https://localhost:8080/"
        },
        "id": "wbkvwAOFFUN2",
        "outputId": "1bbc6961-ce2c-483b-96bd-ff21d97424f1"
      },
      "outputs": [
        {
          "data": {
            "text/plain": [
              "(10, 20)"
            ]
          },
          "execution_count": 1,
          "metadata": {},
          "output_type": "execute_result"
        }
      ],
      "source": [
        "def swap(a,b):\n",
        " temp = a\n",
        " a=b # link of 'a' with previous object is broken now as new object is\n",
        " b = temp # link of 'b' with previous object is broken now as new object is\n",
        "a = 10\n",
        "b = 20\n",
        "swap(a,b)\n",
        "a,b\n"
      ]
    },
    {
      "cell_type": "code",
      "execution_count": null,
      "metadata": {
        "colab": {
          "base_uri": "https://localhost:8080/"
        },
        "id": "QpTqtUMBGnFM",
        "outputId": "b2c9e51d-67ea-47ae-c707-e9c434589cc7"
      },
      "outputs": [
        {
          "data": {
            "text/plain": [
              "24"
            ]
          },
          "execution_count": 3,
          "metadata": {},
          "output_type": "execute_result"
        }
      ],
      "source": [
        "def factorial(num): # Calculate factorial of a number using recursive function c\n",
        " if num <=1 :\n",
        "  return 1\n",
        " else:\n",
        "  return num * factorial(num-1)\n",
        "\n",
        "factorial(4)"
      ]
    },
    {
      "cell_type": "code",
      "execution_count": null,
      "metadata": {
        "colab": {
          "base_uri": "https://localhost:8080/",
          "height": 356
        },
        "id": "2-Glg5kR2UW5",
        "outputId": "337ee7c1-ead0-48c6-cb1f-6fd89fea7b02"
      },
      "outputs": [
        {
          "ename": "RecursionError",
          "evalue": "maximum recursion depth exceeded",
          "output_type": "error",
          "traceback": [
            "\u001b[0;31m---------------------------------------------------------------------------\u001b[0m",
            "\u001b[0;31mRecursionError\u001b[0m                            Traceback (most recent call last)",
            "\u001b[0;32m<ipython-input-8-b40b9699edc7>\u001b[0m in \u001b[0;36m<cell line: 0>\u001b[0;34m()\u001b[0m\n\u001b[1;32m      5\u001b[0m   \u001b[0;32mreturn\u001b[0m \u001b[0mn\u001b[0m \u001b[0;34m*\u001b[0m \u001b[0mfactorial\u001b[0m\u001b[0;34m(\u001b[0m\u001b[0mn\u001b[0m\u001b[0;34m-\u001b[0m\u001b[0;36m0\u001b[0m\u001b[0;34m)\u001b[0m\u001b[0;34m\u001b[0m\u001b[0;34m\u001b[0m\u001b[0m\n\u001b[1;32m      6\u001b[0m \u001b[0;34m\u001b[0m\u001b[0m\n\u001b[0;32m----> 7\u001b[0;31m \u001b[0mfactorial\u001b[0m\u001b[0;34m(\u001b[0m\u001b[0;36m4\u001b[0m\u001b[0;34m)\u001b[0m\u001b[0;34m\u001b[0m\u001b[0;34m\u001b[0m\u001b[0m\n\u001b[0m",
            "\u001b[0;32m<ipython-input-8-b40b9699edc7>\u001b[0m in \u001b[0;36mfactorial\u001b[0;34m(n)\u001b[0m\n\u001b[1;32m      3\u001b[0m   \u001b[0;32mreturn\u001b[0m \u001b[0;36m1\u001b[0m\u001b[0;34m\u001b[0m\u001b[0;34m\u001b[0m\u001b[0m\n\u001b[1;32m      4\u001b[0m  \u001b[0;32melse\u001b[0m\u001b[0;34m:\u001b[0m\u001b[0;34m\u001b[0m\u001b[0;34m\u001b[0m\u001b[0m\n\u001b[0;32m----> 5\u001b[0;31m   \u001b[0;32mreturn\u001b[0m \u001b[0mn\u001b[0m \u001b[0;34m*\u001b[0m \u001b[0mfactorial\u001b[0m\u001b[0;34m(\u001b[0m\u001b[0mn\u001b[0m\u001b[0;34m-\u001b[0m\u001b[0;36m0\u001b[0m\u001b[0;34m)\u001b[0m\u001b[0;34m\u001b[0m\u001b[0;34m\u001b[0m\u001b[0m\n\u001b[0m\u001b[1;32m      6\u001b[0m \u001b[0;34m\u001b[0m\u001b[0m\n\u001b[1;32m      7\u001b[0m \u001b[0mfactorial\u001b[0m\u001b[0;34m(\u001b[0m\u001b[0;36m4\u001b[0m\u001b[0;34m)\u001b[0m\u001b[0;34m\u001b[0m\u001b[0;34m\u001b[0m\u001b[0m\n",
            "... last 1 frames repeated, from the frame below ...\n",
            "\u001b[0;32m<ipython-input-8-b40b9699edc7>\u001b[0m in \u001b[0;36mfactorial\u001b[0;34m(n)\u001b[0m\n\u001b[1;32m      3\u001b[0m   \u001b[0;32mreturn\u001b[0m \u001b[0;36m1\u001b[0m\u001b[0;34m\u001b[0m\u001b[0;34m\u001b[0m\u001b[0m\n\u001b[1;32m      4\u001b[0m  \u001b[0;32melse\u001b[0m\u001b[0;34m:\u001b[0m\u001b[0;34m\u001b[0m\u001b[0;34m\u001b[0m\u001b[0m\n\u001b[0;32m----> 5\u001b[0;31m   \u001b[0;32mreturn\u001b[0m \u001b[0mn\u001b[0m \u001b[0;34m*\u001b[0m \u001b[0mfactorial\u001b[0m\u001b[0;34m(\u001b[0m\u001b[0mn\u001b[0m\u001b[0;34m-\u001b[0m\u001b[0;36m0\u001b[0m\u001b[0;34m)\u001b[0m\u001b[0;34m\u001b[0m\u001b[0;34m\u001b[0m\u001b[0m\n\u001b[0m\u001b[1;32m      6\u001b[0m \u001b[0;34m\u001b[0m\u001b[0m\n\u001b[1;32m      7\u001b[0m \u001b[0mfactorial\u001b[0m\u001b[0;34m(\u001b[0m\u001b[0;36m4\u001b[0m\u001b[0;34m)\u001b[0m\u001b[0;34m\u001b[0m\u001b[0;34m\u001b[0m\u001b[0m\n",
            "\u001b[0;31mRecursionError\u001b[0m: maximum recursion depth exceeded"
          ]
        }
      ],
      "source": [
        "def factorial(n):\n",
        " if n ==0 :\n",
        "  return 1\n",
        " else:\n",
        "  return n * factorial(n-0)\n",
        "\n",
        "factorial(4)"
      ]
    },
    {
      "cell_type": "code",
      "execution_count": 1,
      "metadata": {
        "colab": {
          "base_uri": "https://localhost:8080/"
        },
        "id": "QgUSNCCF5Gd8",
        "outputId": "a1c843c2-3ab6-438d-e7fa-5331745affbf"
      },
      "outputs": [
        {
          "data": {
            "text/plain": [
              "15"
            ]
          },
          "execution_count": 1,
          "metadata": {},
          "output_type": "execute_result"
        }
      ],
      "source": [
        "def add(num): # Sum of first n natural numbers\n",
        " if num == 0:\n",
        "  return 0\n",
        " else:\n",
        "  return num + add(num-1)\n",
        "add(5) # Sum of first five natural numbers (1,2,3,4,5)"
      ]
    },
    {
      "cell_type": "code",
      "execution_count": 2,
      "metadata": {
        "colab": {
          "base_uri": "https://localhost:8080/"
        },
        "id": "bEuW_fyGPU57",
        "outputId": "087fbeea-e72e-4570-f910-d4ba3809c06a"
      },
      "outputs": [
        {
          "name": "stdout",
          "output_type": "stream",
          "text": [
            "How many fibonacci numbers you want to generate -33\n",
            "0\n",
            "1\n",
            "1\n",
            "2\n",
            "3\n",
            "5\n",
            "8\n",
            "13\n",
            "21\n",
            "34\n",
            "55\n",
            "89\n",
            "144\n",
            "233\n",
            "377\n",
            "610\n",
            "987\n",
            "1597\n",
            "2584\n",
            "4181\n",
            "6765\n",
            "10946\n",
            "17711\n",
            "28657\n",
            "46368\n",
            "75025\n",
            "121393\n",
            "196418\n",
            "317811\n",
            "514229\n",
            "832040\n",
            "1346269\n",
            "2178309\n"
          ]
        }
      ],
      "source": [
        "def fiboacci(num):\n",
        " if num <= 1:\n",
        "  return num\n",
        " if num == 2:\n",
        "  return 1\n",
        " else:\n",
        "  return(fiboacci(num-1) + fiboacci(num-2))\n",
        "nums = int(input(\"How many fibonacci numbers you want to generate -\"))\n",
        "for i in range(nums):\n",
        " print(fiboacci(i)) # Generate Fibonacci series"
      ]
    },
    {
      "cell_type": "code",
      "execution_count": null,
      "metadata": {},
      "outputs": [],
      "source": [
        "def generate_profile(name, age, qual, prof, gender):\n",
        " profile = {}\n",
        " profile['name']= name\n",
        " profile['age'] = age\n",
        " profile['qualification']= qual\n",
        " profile['profession']= prof\n",
        " profile['gender']= gender\n",
        " print(profile)"
      ]
    },
    {
      "cell_type": "code",
      "execution_count": null,
      "metadata": {},
      "outputs": [
        {
          "name": "stdout",
          "output_type": "stream",
          "text": [
            "{'name': 'Khadija', 'age': 30, 'qualification': 'matric_fail', 'profession': 'coder', 'gender': 'idk '}\n"
          ]
        }
      ],
      "source": [
        "generate_profile(age= 30, name= \"Khadija\", qual= \"matric_fail\" , prof= \"coder\" , gender=\"idk \")"
      ]
    },
    {
      "cell_type": "code",
      "execution_count": null,
      "metadata": {},
      "outputs": [],
      "source": [
        "def TaxCalc (income):\n",
        "    pass"
      ]
    },
    {
      "cell_type": "code",
      "execution_count": null,
      "metadata": {},
      "outputs": [],
      "source": [
        "def ComissionCalc(units):\n",
        "    pass"
      ]
    },
    {
      "cell_type": "code",
      "execution_count": null,
      "metadata": {},
      "outputs": [
        {
          "ename": "SyntaxError",
          "evalue": "invalid decimal literal (4230485642.py, line 1)",
          "output_type": "error",
          "traceback": [
            "\u001b[1;36m  Cell \u001b[1;32mIn[8], line 1\u001b[1;36m\u001b[0m\n",
            "\u001b[1;33m    def sum_list(1st):\u001b[0m\n",
            "\u001b[1;37m                 ^\u001b[0m\n",
            "\u001b[1;31mSyntaxError\u001b[0m\u001b[1;31m:\u001b[0m invalid decimal literal\n"
          ]
        }
      ],
      "source": [
        "def sum_list(1st):\n",
        "    s = 0\n",
        "    for a in 1st:\n",
        "    s+=a\n",
        "    return s"
      ]
    },
    {
      "cell_type": "code",
      "execution_count": null,
      "metadata": {},
      "outputs": [],
      "source": [
        "sum_list()"
      ]
    },
    {
      "cell_type": "markdown",
      "metadata": {},
      "source": [
        "## Exception handling\n"
      ]
    },
    {
      "cell_type": "code",
      "execution_count": null,
      "metadata": {},
      "outputs": [
        {
          "ename": "ZeroDivisionError",
          "evalue": "division by zero",
          "output_type": "error",
          "traceback": [
            "\u001b[1;31m---------------------------------------------------------------------------\u001b[0m\n",
            "\u001b[1;31mZeroDivisionError\u001b[0m                         Traceback (most recent call last)\n",
            "Cell \u001b[1;32mIn[7], line 3\u001b[0m\n",
            "\u001b[0;32m      1\u001b[0m num1 \u001b[38;5;241m=\u001b[39m \u001b[38;5;28mint\u001b[39m(\u001b[38;5;28minput\u001b[39m(\u001b[38;5;124m\"\u001b[39m\u001b[38;5;124menter a number\u001b[39m\u001b[38;5;124m\"\u001b[39m))\n",
            "\u001b[0;32m      2\u001b[0m num2 \u001b[38;5;241m=\u001b[39m \u001b[38;5;28mint\u001b[39m(\u001b[38;5;28minput\u001b[39m(\u001b[38;5;124m\"\u001b[39m\u001b[38;5;124menter another number\u001b[39m\u001b[38;5;124m\"\u001b[39m))\n",
            "\u001b[1;32m----> 3\u001b[0m \u001b[38;5;28mprint\u001b[39m(\u001b[43mnum1\u001b[49m\u001b[38;5;241;43m/\u001b[39;49m\u001b[43mnum2\u001b[49m)\n",
            "\n",
            "\u001b[1;31mZeroDivisionError\u001b[0m: division by zero"
          ]
        }
      ],
      "source": [
        "num1 = int(input(\"enter a number\"))\n",
        "num2 = int(input(\"enter another number\"))\n",
        "print(num1/num2)"
      ]
    },
    {
      "cell_type": "code",
      "execution_count": null,
      "metadata": {},
      "outputs": [
        {
          "name": "stdout",
          "output_type": "stream",
          "text": [
            "you can't  divide by zero\n"
          ]
        }
      ],
      "source": [
        "num1 = int(input(\"enter a number\"))\n",
        "num2 = int(input(\"enter another number\"))\n",
        "try:\n",
        "    print(num1/num2)\n",
        "except ZeroDivisionError:\n",
        "    print(\"you can't  divide by zero\")"
      ]
    },
    {
      "cell_type": "code",
      "execution_count": null,
      "metadata": {},
      "outputs": [],
      "source": [
        "num1 = int(input(\"enter a number\"))\n",
        "num2 = int(input(\"enter another number\"))\n",
        "try:\n",
        "    print(num1/num2)\n",
        "except ZeroDivisionError:\n",
        "    print(\"you can't  divide by zero\")"
      ]
    },
    {
      "cell_type": "code",
      "execution_count": null,
      "metadata": {},
      "outputs": [],
      "source": [
        "try:\n",
        "    num1 = int(input(\"enter a number\"))\n",
        "    num2 = int(input(\"enter another number\"))\n",
        "    print(num1/num2)\n",
        "except ZeroDivisionError:\n",
        "    print(\"you can't  divide by zero\")\n",
        "except ValueError:\n",
        "    print(\"you can't enter a string\")"
      ]
    },
    {
      "cell_type": "code",
      "execution_count": null,
      "metadata": {},
      "outputs": [],
      "source": []
    }
  ],
  "metadata": {
    "colab": {
      "authorship_tag": "ABX9TyOFSookXmZXcIAnJnrXiUoh",
      "include_colab_link": true,
      "mount_file_id": "1flRgXYwAYeUUEm5Q4mjv14H310uqO7QF",
      "provenance": []
    },
    "kernelspec": {
      "display_name": "base",
      "language": "python",
      "name": "python3"
    },
    "language_info": {
      "codemirror_mode": {
        "name": "ipython",
        "version": 3
      },
      "file_extension": ".py",
      "mimetype": "text/x-python",
      "name": "python",
      "nbconvert_exporter": "python",
      "pygments_lexer": "ipython3",
      "version": "3.12.7"
    }
  },
  "nbformat": 4,
  "nbformat_minor": 0
}
