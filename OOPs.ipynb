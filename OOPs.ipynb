{
  "nbformat": 4,
  "nbformat_minor": 0,
  "metadata": {
    "colab": {
      "provenance": [],
      "authorship_tag": "ABX9TyNi73p9ml4Kyn4LIaAeO/9L",
      "include_colab_link": true
    },
    "kernelspec": {
      "name": "python3",
      "display_name": "Python 3"
    },
    "language_info": {
      "name": "python"
    }
  },
  "cells": [
    {
      "cell_type": "markdown",
      "metadata": {
        "id": "view-in-github",
        "colab_type": "text"
      },
      "source": [
        "<a href=\"https://colab.research.google.com/github/Abubakar919666/Python/blob/main/OOPs.ipynb\" target=\"_parent\"><img src=\"https://colab.research.google.com/assets/colab-badge.svg\" alt=\"Open In Colab\"/></a>"
      ]
    },
    {
      "cell_type": "markdown",
      "source": [
        "# **Classes & Objects**"
      ],
      "metadata": {
        "id": "iK21a01z6yri"
      }
    },
    {
      "cell_type": "code",
      "source": [
        "class Dog:\n",
        "    species = \"Canine\"  # Class attribute\n",
        "\n",
        "    def __init__(self, name, age):\n",
        "        self.name = name  # Instance attribute\n",
        "        self.age = age  # Instance attribute\n",
        "\n",
        "# Creating an object of the Dog class\n",
        "dog1 = Dog(\"Buddy\", 3)\n",
        "\n",
        "print(dog1.name)  # Output: Buddy\n",
        "print(dog1.species)  # Output: Canine\n"
      ],
      "metadata": {
        "colab": {
          "base_uri": "https://localhost:8080/"
        },
        "id": "X0507U7d_3mc",
        "outputId": "0c60720a-d55d-4765-c044-7a1e8cfef39b"
      },
      "execution_count": 2,
      "outputs": [
        {
          "output_type": "stream",
          "name": "stdout",
          "text": [
            "Buddy\n",
            "Canine\n"
          ]
        }
      ]
    },
    {
      "cell_type": "code",
      "source": [
        "class Dog:\n",
        "    def __init__(self,name):\n",
        "        self.name = name\n",
        "dog1 = Dog(\"buddy\")\n",
        "print(dog1.name)\n"
      ],
      "metadata": {
        "id": "i5lvBaSIkUO3",
        "colab": {
          "base_uri": "https://localhost:8080/"
        },
        "outputId": "5d69ba5b-1aa4-43be-b500-aa57f7d92cad"
      },
      "execution_count": 5,
      "outputs": [
        {
          "output_type": "stream",
          "name": "stdout",
          "text": [
            "buddy\n"
          ]
        }
      ]
    },
    {
      "cell_type": "code",
      "source": [
        "# Create a class with property \"var1\"\n",
        "class myclass:\n",
        " var1 = 10\n",
        "\n",
        "obj1 = myclass() # Create an object of class \"myclass()\"\n",
        "print(obj1.var1)"
      ],
      "metadata": {
        "colab": {
          "base_uri": "https://localhost:8080/"
        },
        "id": "1xDz6nHOAH-e",
        "outputId": "6e7017a3-484a-4c28-d309-0d288a373824"
      },
      "execution_count": 9,
      "outputs": [
        {
          "output_type": "stream",
          "name": "stdout",
          "text": [
            "10\n"
          ]
        }
      ]
    },
    {
      "cell_type": "code",
      "source": [
        "# Create an employee class\n",
        "class Employee:\n",
        " def __init__(self, name, empid): # __init__() function is used to assign values\n",
        "  self.name = name\n",
        "  self.empid = empid\n",
        " def greet(self): # Class Method\n",
        "  print(\"Thanks for joining ABC Company {}!!\".format(self.name))\n",
        "emp1 = Employee(\"Asif\", 34163) # Create an employee object\n",
        "print('Name :- ',emp1.name)\n",
        "print('Employee ID :- ',emp1.empid)\n",
        "emp1.greet()"
      ],
      "metadata": {
        "colab": {
          "base_uri": "https://localhost:8080/"
        },
        "id": "qyhbAHuHClsV",
        "outputId": "f69078f7-3c19-44f0-f68d-ce48824bc6ce"
      },
      "execution_count": 19,
      "outputs": [
        {
          "output_type": "stream",
          "name": "stdout",
          "text": [
            "Name :-  Asif\n",
            "Employee ID :-  34163\n",
            "Thanks for joining ABC Company Asif!!\n"
          ]
        }
      ]
    },
    {
      "cell_type": "code",
      "source": [
        "emp1.name = 'Basit' # Modify Object Properties\n",
        "emp1.name"
      ],
      "metadata": {
        "colab": {
          "base_uri": "https://localhost:8080/",
          "height": 35
        },
        "id": "Q9ZTFqqNE697",
        "outputId": "2034749b-938a-4dc8-8d02-b7b94a7dff3a"
      },
      "execution_count": 20,
      "outputs": [
        {
          "output_type": "execute_result",
          "data": {
            "text/plain": [
              "'Basit'"
            ],
            "application/vnd.google.colaboratory.intrinsic+json": {
              "type": "string"
            }
          },
          "metadata": {},
          "execution_count": 20
        }
      ]
    },
    {
      "cell_type": "code",
      "source": [
        "# Create an employee class\n",
        "class Employee:\n",
        " def __init__(self, name, empid): # __init__() function is used to assign values\n",
        "  self.name = name\n",
        "  self.empid = empid\n",
        " def greet(self): # Class Method\n",
        "  print(\"Thanks for joining ABC Company {}!!\".format(self.name))\n",
        "emp1 = Employee(\"Asif\", 34163) # Create an employee object\n",
        "emp1.name = 'Basit' # Modify Object Properties\n",
        "emp1.name\n",
        "print('Name :- ',emp1.name)\n",
        "\n",
        "emp1.greet()"
      ],
      "metadata": {
        "colab": {
          "base_uri": "https://localhost:8080/"
        },
        "id": "Z5Ii3pD8EvXz",
        "outputId": "9f83212f-4666-4301-e7a4-eca5771960e4"
      },
      "execution_count": 25,
      "outputs": [
        {
          "output_type": "stream",
          "name": "stdout",
          "text": [
            "Name :-  Basit\n",
            "Employee ID :-  34163\n",
            "Thanks for joining ABC Company Basit!!\n"
          ]
        }
      ]
    },
    {
      "cell_type": "code",
      "source": [
        "# del emp1.empid # Delete Object Properties\n",
        "# emp1.empid"
      ],
      "metadata": {
        "id": "zksZM0NCIg2d"
      },
      "execution_count": null,
      "outputs": []
    },
    {
      "cell_type": "code",
      "source": [
        "# Create an employee class\n",
        "class Employee:\n",
        " def __init__(self, name, empid): # __init__() function is used to assign values\n",
        "  self.name = name\n",
        "  self.empid = empid\n",
        " def greet(self): # Class Method\n",
        "  print(\"Thanks for joining ABC Company {}!!\".format(self.name))\n",
        "emp1 = Employee(\"Asif\", 34163) # Create an employee object\n",
        "emp1.name = 'Basit' # Modify Object Properties\n",
        "emp1.name\n",
        "print('Name :- ',emp1.name)\n",
        "del emp1.empid\n",
        "# print('Employee ID :- ',emp1.empid)\n",
        "emp1.greet()"
      ],
      "metadata": {
        "colab": {
          "base_uri": "https://localhost:8080/"
        },
        "id": "L-us3KxyGJeM",
        "outputId": "8cac745c-56b2-48e9-c89a-6be230ea0834"
      },
      "execution_count": 31,
      "outputs": [
        {
          "output_type": "stream",
          "name": "stdout",
          "text": [
            "Name :-  Basit\n",
            "Thanks for joining ABC Company Basit!!\n"
          ]
        }
      ]
    },
    {
      "cell_type": "code",
      "source": [
        "emp2 = Employee(\"Michael\", 34162) # Create an employee\n",
        "emp2.country = 'India' #instance variable can be created manually\n",
        "emp2.country\n",
        "print('Name :- ',emp2.name)\n",
        "print('Employee ID :- ',emp2.empid)\n",
        "emp2.greet()"
      ],
      "metadata": {
        "colab": {
          "base_uri": "https://localhost:8080/"
        },
        "id": "45fRo5nAFiP2",
        "outputId": "ef255610-530e-43ae-be2d-94d0dec87af5"
      },
      "execution_count": 41,
      "outputs": [
        {
          "output_type": "stream",
          "name": "stdout",
          "text": [
            "Name :-  Michael\n",
            "Employee ID :-  34162\n",
            "Thanks for joining ABC Company Michael!!\n"
          ]
        }
      ]
    },
    {
      "cell_type": "code",
      "source": [
        "emp2.country = 'India' #instance variable can be created manually\n",
        "emp2.country"
      ],
      "metadata": {
        "colab": {
          "base_uri": "https://localhost:8080/",
          "height": 35
        },
        "id": "D0O0yagYK0yc",
        "outputId": "d574befb-c1aa-4054-d5b4-e87cc79df21f"
      },
      "execution_count": 37,
      "outputs": [
        {
          "output_type": "execute_result",
          "data": {
            "text/plain": [
              "'India'"
            ],
            "application/vnd.google.colaboratory.intrinsic+json": {
              "type": "string"
            }
          },
          "metadata": {},
          "execution_count": 37
        }
      ]
    },
    {
      "cell_type": "markdown",
      "source": [
        "inheritence"
      ],
      "metadata": {
        "id": "U1vc5_FJUXcc"
      }
    },
    {
      "cell_type": "code",
      "source": [
        "class person: # Parent Class\n",
        "  def __init__(self, name , age , gender):\n",
        "    self.name = name\n",
        "    self.age = age\n",
        "    self.gender = gender\n",
        "\n",
        "  def PersonInfo(self):\n",
        "    print('Name :- {}'.format(self.name))\n",
        "    print('Age :- {}'.format(self.age))\n",
        "    print('Gender :- {}'.format(self.gender))\n",
        "\n",
        "\n",
        "\n",
        "class student(person): # Child Class\n",
        " def __init__(self,name,age,gender,studentid,fees):\n",
        "  person.__init__(self,name,age,gender)\n",
        "  self.studentid = studentid\n",
        "  self.fees = fees\n",
        "\n",
        " def StudentInfo(self):\n",
        "  print('Student ID :- {}'.format(self.studentid))\n",
        "  print('Fees :- {}'.format(self.fees))\n",
        "\n",
        "\n",
        "class teacher(person): # Child Class\n",
        " def __init__(self,name,age,gender,empid,salary):\n",
        "  person.__init__(self,name,age,gender)\n",
        "  self.empid = empid\n",
        "  self.salary = salary\n",
        "\n",
        " def TeacherInfo(self):\n",
        "  print('Employee ID :- {}'.format(self.empid))\n",
        "  print('Salary :- {}'.format(self.salary))\n",
        "\n",
        "stud1 = student('Asif' , 24 , 'Male' , 123 , 1200)\n",
        "print('Student Details')\n",
        "print('---------------')\n",
        "stud1.PersonInfo() # PersonInfo() method presnt in Parent Class will be access\n",
        "stud1.StudentInfo()\n",
        "print()\n",
        "teacher1 = teacher('Basit' , 36 , 'Male' , 456 , 80000)\n",
        "print('Employee Details')\n",
        "print('---------------')\n",
        "teacher1.PersonInfo() # PersonInfo() method presnt in Parent Class will be acc\n",
        "teacher1.TeacherInfo()"
      ],
      "metadata": {
        "colab": {
          "base_uri": "https://localhost:8080/"
        },
        "id": "Mrzy8KwsK6wz",
        "outputId": "75bcd68d-8a93-40ba-a248-c1d552668883"
      },
      "execution_count": 42,
      "outputs": [
        {
          "output_type": "stream",
          "name": "stdout",
          "text": [
            "Student Details\n",
            "---------------\n",
            "Name :- Asif\n",
            "Age :- 24\n",
            "Gender :- Male\n",
            "Student ID :- 123\n",
            "Fees :- 1200\n",
            "\n",
            "Employee Details\n",
            "---------------\n",
            "Name :- Basit\n",
            "Age :- 36\n",
            "Gender :- Male\n",
            "Employee ID :- 456\n",
            "Salary :- 80000\n"
          ]
        }
      ]
    },
    {
      "cell_type": "code",
      "source": [
        "class person: # Parent Class\n",
        " def __init__(self, name , age , gender):\n",
        "  self.name = name\n",
        "  self.age = age\n",
        "  self.gender = gender\n",
        "\n",
        " def PersonInfo(self):\n",
        "  print('Name :- {}'.format(self.name))\n",
        "  print('Age :- {}'.format(self.age))\n",
        "  print('Gender :- {}'.format(self.gender))\n",
        "\n",
        "\n",
        "\n",
        "class student(person): # Child Class\n",
        " def __init__(self,name,age,gender,studentid,fees):\n",
        "  person.__init__(self,name,age,gender)\n",
        "  self.studentid = studentid\n",
        "  self.fees = fees\n",
        "\n",
        " def StudentInfo(self):\n",
        "  print('Student ID :- {}'.format(self.studentid))\n",
        "  print('Fees :- {}'.format(self.fees))\n",
        "\n",
        "\n",
        "stud1 = student('Asif' , 24 , 'Male' , 123 , 1200)\n",
        "print('Student Details')\n",
        "print('---------------')\n",
        "stud1.PersonInfo() # PersonInfo() method presnt in Parent Class will be access\n",
        "stud1.StudentInfo()\n",
        "print()"
      ],
      "metadata": {
        "colab": {
          "base_uri": "https://localhost:8080/"
        },
        "id": "O1twS99-UQeQ",
        "outputId": "b6c78639-b712-4ab2-dc71-b8cc1c9004d1"
      },
      "execution_count": 45,
      "outputs": [
        {
          "output_type": "stream",
          "name": "stdout",
          "text": [
            "Student Details\n",
            "---------------\n",
            "Name :- Asif\n",
            "Age :- 24\n",
            "Gender :- Male\n",
            "Student ID :- 123\n",
            "Fees :- 1200\n",
            "\n"
          ]
        }
      ]
    },
    {
      "cell_type": "code",
      "source": [
        "# super() builtin function allows us to access methods of the base class.\n",
        "class person: # Parent Class\n",
        " def __init__(self, name , age , gender):\n",
        "  self.name = name\n",
        "  self.age = age\n",
        "  self.gender = gender\n",
        "\n",
        " def PersonInfo(self):\n",
        "  print('Name :- {}'.format(self.name))\n",
        "  print('Age :- {}'.format(self.age))\n",
        "  print('Gender :- {}'.format(self.gender))\n",
        "\n",
        "\n",
        "\n",
        "class student(person): # Child Class\n",
        " def __init__(self,name,age,gender,studentid,fees):\n",
        "  super().__init__(name,age,gender)\n",
        "  self.studentid = studentid\n",
        "  self.fees = fees\n",
        "\n",
        " def StudentInfo(self):\n",
        "  super().PersonInfo()\n",
        "  print('Student ID :- {}'.format(self.studentid))\n",
        "  print('Fees :- {}'.format(self.fees))\n",
        "\n",
        "stud = student('Asif' , 24 , 'Male' , 123 , 1200)\n",
        "print('Student Details')\n",
        "print('---------------')\n",
        "stud.StudentInfo()"
      ],
      "metadata": {
        "colab": {
          "base_uri": "https://localhost:8080/"
        },
        "id": "P7We2jrRaZZe",
        "outputId": "4783d1f7-1ff6-40d2-89cc-4e3f1fb2de15"
      },
      "execution_count": 46,
      "outputs": [
        {
          "output_type": "stream",
          "name": "stdout",
          "text": [
            "Student Details\n",
            "---------------\n",
            "Name :- Asif\n",
            "Age :- 24\n",
            "Gender :- Male\n",
            "Student ID :- 123\n",
            "Fees :- 1200\n"
          ]
        }
      ]
    },
    {
      "cell_type": "code",
      "source": [],
      "metadata": {
        "id": "Mc8PYmQibzj6"
      },
      "execution_count": null,
      "outputs": []
    }
  ]
}