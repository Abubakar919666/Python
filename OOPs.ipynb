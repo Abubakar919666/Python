{
  "nbformat": 4,
  "nbformat_minor": 0,
  "metadata": {
    "colab": {
      "provenance": [],
      "authorship_tag": "ABX9TyMQLL1sH4cNZMOtLlvbnHDm",
      "include_colab_link": true
    },
    "kernelspec": {
      "name": "python3",
      "display_name": "Python 3"
    },
    "language_info": {
      "name": "python"
    }
  },
  "cells": [
    {
      "cell_type": "markdown",
      "metadata": {
        "id": "view-in-github",
        "colab_type": "text"
      },
      "source": [
        "<a href=\"https://colab.research.google.com/github/Abubakar919666/Python/blob/main/OOPs.ipynb\" target=\"_parent\"><img src=\"https://colab.research.google.com/assets/colab-badge.svg\" alt=\"Open In Colab\"/></a>"
      ]
    },
    {
      "cell_type": "markdown",
      "source": [
        "# **Classes & Objects**"
      ],
      "metadata": {
        "id": "iK21a01z6yri"
      }
    },
    {
      "cell_type": "code",
      "source": [
        "class Dog:\n",
        "    species = \"Canine\"  # Class attribute\n",
        "\n",
        "    def __init__(self, name, age):\n",
        "        self.name = name  # Instance attribute\n",
        "        self.age = age  # Instance attribute\n",
        "\n",
        "# Creating an object of the Dog class\n",
        "dog1 = Dog(\"Buddy\", 3)\n",
        "\n",
        "print(dog1.name)  # Output: Buddy\n",
        "print(dog1.species)  # Output: Canine\n"
      ],
      "metadata": {
        "id": "X0507U7d_3mc",
        "outputId": "0c60720a-d55d-4765-c044-7a1e8cfef39b",
        "colab": {
          "base_uri": "https://localhost:8080/"
        }
      },
      "execution_count": 2,
      "outputs": [
        {
          "output_type": "stream",
          "name": "stdout",
          "text": [
            "Buddy\n",
            "Canine\n"
          ]
        }
      ]
    },
    {
      "cell_type": "code",
      "source": [
        "class Dog:\n",
        "    def __init__(self,name):\n",
        "        self.name = name\n",
        "dog1 = Dog(\"buddy\")\n",
        "print(dog1.name)\n"
      ],
      "metadata": {
        "id": "i5lvBaSIkUO3",
        "outputId": "5d69ba5b-1aa4-43be-b500-aa57f7d92cad",
        "colab": {
          "base_uri": "https://localhost:8080/"
        }
      },
      "execution_count": 5,
      "outputs": [
        {
          "output_type": "stream",
          "name": "stdout",
          "text": [
            "buddy\n"
          ]
        }
      ]
    },
    {
      "cell_type": "code",
      "source": [
        "# Create a class with property \"var1\"\n",
        "class myclass:\n",
        " var1 = 10\n",
        "\n",
        "obj1 = myclass() # Create an object of class \"myclass()\"\n",
        "print(obj1.var1)"
      ],
      "metadata": {
        "id": "1xDz6nHOAH-e",
        "outputId": "6e7017a3-484a-4c28-d309-0d288a373824",
        "colab": {
          "base_uri": "https://localhost:8080/"
        }
      },
      "execution_count": 9,
      "outputs": [
        {
          "output_type": "stream",
          "name": "stdout",
          "text": [
            "10\n"
          ]
        }
      ]
    },
    {
      "cell_type": "code",
      "source": [
        "# Create an employee class\n",
        "class Employee:\n",
        " def __init__(self, name, empid): # __init__() function is used to assign values\n",
        "  self.name = name\n",
        "  self.empid = empid\n",
        " def greet(self): # Class Method\n",
        "  print(\"Thanks for joining ABC Company {}!!\".format(self.name))\n",
        "emp1 = Employee(\"Asif\", 34163) # Create an employee object\n",
        "print('Name :- ',emp1.name)\n",
        "print('Employee ID :- ',emp1.empid)\n",
        "emp1.greet()"
      ],
      "metadata": {
        "id": "qyhbAHuHClsV",
        "outputId": "f69078f7-3c19-44f0-f68d-ce48824bc6ce",
        "colab": {
          "base_uri": "https://localhost:8080/"
        }
      },
      "execution_count": 19,
      "outputs": [
        {
          "output_type": "stream",
          "name": "stdout",
          "text": [
            "Name :-  Asif\n",
            "Employee ID :-  34163\n",
            "Thanks for joining ABC Company Asif!!\n"
          ]
        }
      ]
    },
    {
      "cell_type": "code",
      "source": [
        "emp1.name = 'Basit' # Modify Object Properties\n",
        "emp1.name"
      ],
      "metadata": {
        "id": "Q9ZTFqqNE697",
        "outputId": "2034749b-938a-4dc8-8d02-b7b94a7dff3a",
        "colab": {
          "base_uri": "https://localhost:8080/",
          "height": 35
        }
      },
      "execution_count": 20,
      "outputs": [
        {
          "output_type": "execute_result",
          "data": {
            "text/plain": [
              "'Basit'"
            ],
            "application/vnd.google.colaboratory.intrinsic+json": {
              "type": "string"
            }
          },
          "metadata": {},
          "execution_count": 20
        }
      ]
    },
    {
      "cell_type": "code",
      "source": [
        "# Create an employee class\n",
        "class Employee:\n",
        " def __init__(self, name, empid): # __init__() function is used to assign values\n",
        "  self.name = name\n",
        "  self.empid = empid\n",
        " def greet(self): # Class Method\n",
        "  print(\"Thanks for joining ABC Company {}!!\".format(self.name))\n",
        "emp1 = Employee(\"Asif\", 34163) # Create an employee object\n",
        "emp1.name = 'Basit' # Modify Object Properties\n",
        "emp1.name\n",
        "print('Name :- ',emp1.name)\n",
        "\n",
        "emp1.greet()"
      ],
      "metadata": {
        "id": "Z5Ii3pD8EvXz",
        "outputId": "9f83212f-4666-4301-e7a4-eca5771960e4",
        "colab": {
          "base_uri": "https://localhost:8080/"
        }
      },
      "execution_count": 25,
      "outputs": [
        {
          "output_type": "stream",
          "name": "stdout",
          "text": [
            "Name :-  Basit\n",
            "Employee ID :-  34163\n",
            "Thanks for joining ABC Company Basit!!\n"
          ]
        }
      ]
    },
    {
      "cell_type": "code",
      "source": [
        "# del emp1.empid # Delete Object Properties\n",
        "# emp1.empid"
      ],
      "metadata": {
        "id": "zksZM0NCIg2d"
      },
      "execution_count": null,
      "outputs": []
    },
    {
      "cell_type": "code",
      "source": [
        "# Create an employee class\n",
        "class Employee:\n",
        " def __init__(self, name, empid): # __init__() function is used to assign values\n",
        "  self.name = name\n",
        "  self.empid = empid\n",
        " def greet(self): # Class Method\n",
        "  print(\"Thanks for joining ABC Company {}!!\".format(self.name))\n",
        "emp1 = Employee(\"Asif\", 34163) # Create an employee object\n",
        "emp1.name = 'Basit' # Modify Object Properties\n",
        "emp1.name\n",
        "print('Name :- ',emp1.name)\n",
        "del emp1.empid\n",
        "# print('Employee ID :- ',emp1.empid)\n",
        "emp1.greet()"
      ],
      "metadata": {
        "id": "L-us3KxyGJeM",
        "outputId": "8cac745c-56b2-48e9-c89a-6be230ea0834",
        "colab": {
          "base_uri": "https://localhost:8080/"
        }
      },
      "execution_count": 31,
      "outputs": [
        {
          "output_type": "stream",
          "name": "stdout",
          "text": [
            "Name :-  Basit\n",
            "Thanks for joining ABC Company Basit!!\n"
          ]
        }
      ]
    },
    {
      "cell_type": "code",
      "source": [
        "emp2 = Employee(\"Michael\", 34162) # Create an employee\n",
        "emp2.country = 'India' #instance variable can be created manually\n",
        "emp2.country\n",
        "print('Name :- ',emp2.name)\n",
        "print('Employee ID :- ',emp2.empid)\n",
        "emp2.greet()"
      ],
      "metadata": {
        "id": "45fRo5nAFiP2",
        "outputId": "eda2ad85-e992-4ef2-fde6-79b6194c0aa0",
        "colab": {
          "base_uri": "https://localhost:8080/"
        }
      },
      "execution_count": 39,
      "outputs": [
        {
          "output_type": "stream",
          "name": "stdout",
          "text": [
            "Name :-  Michael\n",
            "Employee ID :-  34162\n",
            "Thanks for joining ABC Company Michael!!\n"
          ]
        }
      ]
    },
    {
      "cell_type": "code",
      "source": [
        "emp2.country = 'India' #instance variable can be created manually\n",
        "emp2.country"
      ],
      "metadata": {
        "id": "D0O0yagYK0yc",
        "outputId": "d574befb-c1aa-4054-d5b4-e87cc79df21f",
        "colab": {
          "base_uri": "https://localhost:8080/",
          "height": 35
        }
      },
      "execution_count": 37,
      "outputs": [
        {
          "output_type": "execute_result",
          "data": {
            "text/plain": [
              "'India'"
            ],
            "application/vnd.google.colaboratory.intrinsic+json": {
              "type": "string"
            }
          },
          "metadata": {},
          "execution_count": 37
        }
      ]
    },
    {
      "cell_type": "code",
      "source": [],
      "metadata": {
        "id": "Mrzy8KwsK6wz"
      },
      "execution_count": null,
      "outputs": []
    }
  ]
}