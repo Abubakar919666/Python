{
 "cells": [
  {
   "cell_type": "markdown",
   "metadata": {},
   "source": [
    "# function\n"
   ]
  },
  {
   "cell_type": "code",
   "execution_count": 2,
   "metadata": {},
   "outputs": [],
   "source": [
    "def generate_profile(name, age, qual, prof, gender):\n",
    " profile = {}\n",
    " profile['name']= name\n",
    " profile['age']= age\n",
    " profile['qualification']= qual\n",
    " profile['profession']= prof\n",
    " profile['gender']= gender\n",
    " print(profile)"
   ]
  },
  {
   "cell_type": "code",
   "execution_count": 3,
   "metadata": {},
   "outputs": [
    {
     "name": "stdout",
     "output_type": "stream",
     "text": [
      "{'name': 'anaya', 'age': 18, 'qualification': 'matric_fail', 'profession': 'coder', 'gender': 'kuch pata nhi '}\n"
     ]
    }
   ],
   "source": [
    "generate_profile(age= 18, name= \"anaya\", qual= \"matric_fail\" , prof= \"coder\" , gender=\"kuch pata nhi \")"
   ]
  }
 ],
 "metadata": {
  "kernelspec": {
   "display_name": "base",
   "language": "python",
   "name": "python3"
  },
  "language_info": {
   "codemirror_mode": {
    "name": "ipython",
    "version": 3
   },
   "file_extension": ".py",
   "mimetype": "text/x-python",
   "name": "python",
   "nbconvert_exporter": "python",
   "pygments_lexer": "ipython3",
   "version": "3.12.7"
  }
 },
 "nbformat": 4,
 "nbformat_minor": 2
}
