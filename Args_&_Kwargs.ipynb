{
  "nbformat": 4,
  "nbformat_minor": 0,
  "metadata": {
    "colab": {
      "provenance": [],
      "mount_file_id": "1flRgXYwAYeUUEm5Q4mjv14H310uqO7QF",
      "authorship_tag": "ABX9TyMRLpEeG63mrUbR8gtCtfyP",
      "include_colab_link": true
    },
    "kernelspec": {
      "name": "python3",
      "display_name": "Python 3"
    },
    "language_info": {
      "name": "python"
    }
  },
  "cells": [
    {
      "cell_type": "markdown",
      "metadata": {
        "id": "view-in-github",
        "colab_type": "text"
      },
      "source": [
        "<a href=\"https://colab.research.google.com/github/Abubakar919666/Python/blob/main/Args_%26_Kwargs.ipynb\" target=\"_parent\"><img src=\"https://colab.research.google.com/assets/colab-badge.svg\" alt=\"Open In Colab\"/></a>"
      ]
    },
    {
      "cell_type": "markdown",
      "source": [
        "# **args & kwargs**\n",
        " **args**\n",
        "\n",
        "- When we are not sure about the number of arguments being passed to a function then we can use *args as function parameter.\n",
        "*args allow us to pass the variable number of Non Keyword Arguments to function.\n",
        "- We can simply use an asterisk * before the parameter name to pass variable length arguments.\n",
        "- The arguments are always passed as a tuple.\n",
        "- We can rename it to anything as long as it is preceded by a single asterisk (*). It's best practice to keep naming it args to make it immediately recognizable.\n",
        "\n",
        "**kwargs**\n",
        "- kwargs allows us to pass the variable number of Keyword Arguments to the function.\n",
        "-We can simply use an double asterisk ** before the parameter name to pass variable length arguments.\n",
        "- The arguments are passed as a dictionary.\n",
        "-We can rename it to anything as long as it is preceded by a double asterisk (**). It's best practice to keep naming it kwargs to make it immediately recognizable."
      ],
      "metadata": {
        "id": "xbPkK-DYaeyS"
      }
    }
  ]
}